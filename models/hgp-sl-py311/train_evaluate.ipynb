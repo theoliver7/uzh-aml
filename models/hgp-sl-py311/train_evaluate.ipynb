{
 "cells": [
  {
   "cell_type": "code",
   "execution_count": 6,
   "id": "initial_id",
   "metadata": {
    "collapsed": true,
    "ExecuteTime": {
     "end_time": "2024-04-14T18:51:13.770191Z",
     "start_time": "2024-04-14T18:51:11.639693Z"
    }
   },
   "outputs": [],
   "source": [
    "import glob\n",
    "import os\n",
    "import time\n",
    "\n",
    "import torch\n",
    "import torch.nn.functional as F\n",
    "from models_new import Model\n",
    "from torch.utils.data import random_split\n",
    "from torch_geometric.loader import DataLoader\n",
    "from torch_geometric.datasets import TUDataset\n",
    "from sklearn.model_selection import KFold"
   ]
  },
  {
   "cell_type": "code",
   "outputs": [
    {
     "name": "stdout",
     "output_type": "stream",
     "text": [
      "cuda\n"
     ]
    }
   ],
   "source": [
    "args = {\n",
    "    'device':\"cuda\",\n",
    "    'seed': \"42\"\n",
    "    ''   \n",
    "}\n",
    "torch.set_printoptions(edgeitems =10)\n",
    "\n",
    "if torch.cuda.is_available():\n",
    "    args.device = 'cuda'"
   ],
   "metadata": {
    "collapsed": false,
    "ExecuteTime": {
     "end_time": "2024-04-14T18:49:12.566373Z",
     "start_time": "2024-04-14T18:49:12.557374Z"
    }
   },
   "id": "ef02e2be402f49d",
   "execution_count": 5
  },
  {
   "cell_type": "code",
   "outputs": [],
   "source": [
    "dataset = TUDataset(os.path.join('../../data', \"DD\"), name=\"DD\", use_node_attr=True)\n",
    "num_test = int(len(dataset) * 0.1)\n",
    "num_train = len(dataset) - num_test\n",
    "train_dataset, test_dataset = torch.utils.data.random_split(dataset, [num_train, num_test])\n",
    "\n",
    "kfold = KFold(n_splits=5, shuffle=True, random_state=args[\"seed\"])"
   ],
   "metadata": {
    "collapsed": false,
    "ExecuteTime": {
     "end_time": "2024-04-14T18:52:04.085729Z",
     "start_time": "2024-04-14T18:52:04.011069Z"
    }
   },
   "id": "1bbb51a91e218bd",
   "execution_count": 8
  },
  {
   "cell_type": "code",
   "outputs": [
    {
     "name": "stdout",
     "output_type": "stream",
     "text": [
      "KFold(n_splits=5, random_state='42', shuffle=True)\n"
     ]
    }
   ],
   "source": [
    "print(kfold)"
   ],
   "metadata": {
    "collapsed": false,
    "ExecuteTime": {
     "end_time": "2024-04-14T18:52:16.691975Z",
     "start_time": "2024-04-14T18:52:16.683980Z"
    }
   },
   "id": "101d6be3faad6381",
   "execution_count": 10
  }
 ],
 "metadata": {
  "kernelspec": {
   "display_name": "Python 3",
   "language": "python",
   "name": "python3"
  },
  "language_info": {
   "codemirror_mode": {
    "name": "ipython",
    "version": 2
   },
   "file_extension": ".py",
   "mimetype": "text/x-python",
   "name": "python",
   "nbconvert_exporter": "python",
   "pygments_lexer": "ipython2",
   "version": "2.7.6"
  }
 },
 "nbformat": 4,
 "nbformat_minor": 5
}
