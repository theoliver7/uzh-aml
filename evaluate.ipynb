{
 "cells": [
  {
   "cell_type": "code",
   "source": [
    "import sys\n",
    "\n",
    "if 'google.colab' in sys.modules:\n",
    "    !git clone https://github.com/theoliver7/uzh-aml.git\n",
    "    %cd uzh-aml\n",
    "    !git checkout training-notebook\n",
    "    %load_ext tensorboard\n",
    "    !pip install -r colab-requirements.txt\n",
    "    from torch.utils.tensorboard import SummaryWriter\n"
   ],
   "metadata": {
    "id": "0nqzYuKimGdm",
    "outputId": "bd5523d9-5656-47af-ef65-a6a3c28a7c56",
    "colab": {
     "base_uri": "https://localhost:8080/"
    },
    "ExecuteTime": {
     "end_time": "2024-04-30T09:02:52.981767Z",
     "start_time": "2024-04-30T09:02:52.977015Z"
    }
   },
   "id": "0nqzYuKimGdm",
   "outputs": [],
   "execution_count": 13
  },
  {
   "cell_type": "code",
   "id": "initial_id",
   "metadata": {
    "collapsed": true,
    "id": "initial_id",
    "ExecuteTime": {
     "end_time": "2024-04-30T09:02:53.053582Z",
     "start_time": "2024-04-30T09:02:53.049994Z"
    }
   },
   "source": [
    "import os\n",
    "\n",
    "import torch\n",
    "import torch.nn.functional as F\n",
    "from torch.utils.data import random_split\n",
    "from torch_geometric.datasets import TUDataset\n",
    "from torch_geometric.loader import DataLoader"
   ],
   "outputs": [],
   "execution_count": 14
  },
  {
   "metadata": {
    "ExecuteTime": {
     "end_time": "2024-04-30T09:02:53.315660Z",
     "start_time": "2024-04-30T09:02:53.308678Z"
    }
   },
   "cell_type": "code",
   "source": [
    "args = {\n",
    "    'device': \"gpu\",\n",
    "    'seed': 42,\n",
    "    'batch_size': 120,\n",
    "}\n"
   ],
   "id": "ef02e2be402f49d",
   "outputs": [],
   "execution_count": 15
  },
  {
   "cell_type": "code",
   "source": [
    "torch.set_printoptions(edgeitems=10)\n",
    "\n",
    "if torch.cuda.is_available():\n",
    "    args[\"device\"] = 'cuda'\n",
    "# SET THE RANDOM SEED\n",
    "torch.manual_seed(args['seed'])\n",
    "\n",
    "dataset = TUDataset(os.path.join('../../data', \"DD\"), name=\"DD\", use_node_attr=True)\n",
    "args[\"num_classes\"] = dataset.num_classes\n",
    "args[\"num_features\"] = dataset.num_features\n",
    "num_test = int(len(dataset) * 0.1)\n",
    "num_train = len(dataset) - num_test\n",
    "_, test_dataset = torch.utils.data.random_split(dataset, [num_train, num_test])"
   ],
   "metadata": {
    "id": "1bbb51a91e218bd",
    "outputId": "74fb840f-8383-4b20-c8b6-2f2a43a3aebc",
    "colab": {
     "base_uri": "https://localhost:8080/"
    },
    "ExecuteTime": {
     "end_time": "2024-04-30T09:07:53.548543Z",
     "start_time": "2024-04-30T09:07:53.318376Z"
    }
   },
   "id": "1bbb51a91e218bd",
   "outputs": [
    {
     "name": "stdout",
     "output_type": "stream",
     "text": [
      "{'device': 'cuda', 'seed': 42, 'batch_size': 120, 'num_classes': 2, 'num_features': 89}\n"
     ]
    }
   ],
   "execution_count": 19
  },
  {
   "cell_type": "code",
   "source": [
    "def compute_test(model, loader):\n",
    "    model.eval()\n",
    "    correct = 0.0\n",
    "    loss_test = 0.0\n",
    "    for data in loader:\n",
    "        data = data.to(args[\"device\"])\n",
    "        out = model(data)\n",
    "        pred = out.max(dim=1)[1]\n",
    "        correct += pred.eq(data.y).sum().item()\n",
    "        loss_test += F.nll_loss(out, data.y).item()\n",
    "    return correct / len(loader.dataset), loss_test"
   ],
   "metadata": {
    "id": "5441549860e8b324",
    "ExecuteTime": {
     "end_time": "2024-04-30T09:02:53.897357Z",
     "start_time": "2024-04-30T09:02:53.886898Z"
    }
   },
   "id": "5441549860e8b324",
   "outputs": [],
   "execution_count": 17
  },
  {
   "cell_type": "code",
   "source": [
    "test_loader = DataLoader(test_dataset, batch_size=args[\"batch_size\"], shuffle=False)\n",
    "model = torch.load(\"4.pth\")\n",
    "model.eval()\n",
    "acc_test, loss_test = compute_test(model, test_loader)\n",
    "# Output cross-validation and test results\n",
    "print(f\"Model accuracy: {acc_test}\")\n",
    "print(f\"Model loss: {loss_test}\")"
   ],
   "metadata": {
    "id": "8c24a2e8d47050d5",
    "outputId": "146e7185-e4b9-4268-8809-de13c023c7d1",
    "colab": {
     "base_uri": "https://localhost:8080/"
    },
    "ExecuteTime": {
     "end_time": "2024-04-30T09:02:54.963827Z",
     "start_time": "2024-04-30T09:02:54.026185Z"
    }
   },
   "id": "8c24a2e8d47050d5",
   "outputs": [
    {
     "name": "stdout",
     "output_type": "stream",
     "text": [
      "Model accuracy: 0.6153846153846154\n",
      "Model loss: 0.6706265211105347\n"
     ]
    }
   ],
   "execution_count": 18
  },
  {
   "cell_type": "code",
   "source": [],
   "metadata": {
    "collapsed": false,
    "ExecuteTime": {
     "end_time": "2024-04-30T09:02:54.966766Z",
     "start_time": "2024-04-30T09:02:54.965062Z"
    }
   },
   "id": "45295963b4a64904",
   "outputs": [],
   "execution_count": 18
  }
 ],
 "metadata": {
  "kernelspec": {
   "display_name": "Python 3 (ipykernel)",
   "name": "python3",
   "language": "python"
  },
  "language_info": {
   "codemirror_mode": {
    "name": "ipython",
    "version": 2
   },
   "file_extension": ".py",
   "mimetype": "text/x-python",
   "name": "python",
   "nbconvert_exporter": "python",
   "pygments_lexer": "ipython2",
   "version": "2.7.6"
  },
  "colab": {
   "provenance": [],
   "gpuType": "T4"
  },
  "accelerator": "GPU"
 },
 "nbformat": 4,
 "nbformat_minor": 5
}
