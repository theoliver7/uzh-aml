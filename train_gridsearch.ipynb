{
 "cells": [
  {
   "cell_type": "code",
   "id": "0nqzYuKimGdm",
   "metadata": {
    "colab": {
     "base_uri": "https://localhost:8080/"
    },
    "id": "0nqzYuKimGdm",
    "outputId": "bd5523d9-5656-47af-ef65-a6a3c28a7c56",
    "ExecuteTime": {
     "end_time": "2024-05-11T14:36:54.917075Z",
     "start_time": "2024-05-11T14:36:54.912548Z"
    }
   },
   "source": [
    "import sys\n",
    "print('google.colab' in sys.modules)\n",
    "if 'google.colab' in sys.modules:\n",
    "    !git clone https://github.com/theoliver7/uzh-aml.git\n",
    "    %cd uzh-aml\n",
    "    %load_ext tensorboard\n",
    "    !pip install -r colab-requirements.txt\n",
    "    \n"
   ],
   "outputs": [
    {
     "name": "stdout",
     "output_type": "stream",
     "text": [
      "False\n"
     ]
    }
   ],
   "execution_count": 57
  },
  {
   "cell_type": "code",
   "id": "initial_id",
   "metadata": {
    "collapsed": true,
    "id": "initial_id",
    "ExecuteTime": {
     "end_time": "2024-05-11T14:36:54.921928Z",
     "start_time": "2024-05-11T14:36:54.919352Z"
    }
   },
   "source": [
    "import glob\n",
    "import importlib\n",
    "import os\n",
    "import time\n",
    "\n",
    "import numpy as np\n",
    "import torch\n",
    "import torch.nn.functional as F\n",
    "from sklearn.model_selection import KFold\n",
    "from torch.utils.data import random_split\n",
    "from torch_geometric.datasets import TUDataset\n",
    "from torch_geometric.loader import DataLoader\n",
    "\n",
    "# IMPORT THE MODEL TO BE TRAINED !!!\n",
    "import models.hgp_sl_param.models as models"
   ],
   "outputs": [],
   "execution_count": 58
  },
  {
   "cell_type": "code",
   "id": "70a4db1f4e8785de",
   "metadata": {
    "colab": {
     "base_uri": "https://localhost:8080/"
    },
    "id": "70a4db1f4e8785de",
    "outputId": "ad6a61fe-b1cd-416a-9cd7-1749e19d7b4d",
    "ExecuteTime": {
     "end_time": "2024-05-11T14:36:54.926563Z",
     "start_time": "2024-05-11T14:36:54.922888Z"
    }
   },
   "source": [
    "# Refresh model so that code is updated directly\n",
    "importlib.reload(models)"
   ],
   "outputs": [
    {
     "data": {
      "text/plain": [
       "<module 'models.hgp_sl_param.models' from '/Users/carlosk/Documents/Programmieren/aml/uzh-advanced-ml/models/hgp_sl_param/models.py'>"
      ]
     },
     "execution_count": 59,
     "metadata": {},
     "output_type": "execute_result"
    }
   ],
   "execution_count": 59
  },
  {
   "cell_type": "code",
   "id": "ef02e2be402f49d",
   "metadata": {
    "id": "ef02e2be402f49d",
    "ExecuteTime": {
     "end_time": "2024-05-11T14:36:54.929798Z",
     "start_time": "2024-05-11T14:36:54.927403Z"
    }
   },
   "source": [
    "args = {\n",
    "    'device': \"cuda\",\n",
    "    'seed': 777,\n",
    "    'batch_size': 64,\n",
    "    'lr': 0.0001,\n",
    "    'weight_decay': 0.001,\n",
    "    'epochs': 1000,\n",
    "    'patience': 100,\n",
    "    'nhid': 128,\n",
    "    'pooling_ratio': 0.3,\n",
    "    'dropout_ratio': 0.5,\n",
    "    'sample_neighbor': True,\n",
    "    'sparse_attention': True,\n",
    "    'structure_learning': True,\n",
    "    'negative_slope': 0.2,\n",
    "    'lamb': 1.0,\n",
    "    'dist': \"man\",\n",
    "    'num_layers': 2,\n",
    "    'layers_readout': [0, 1] # Assume we have 3 layers (so K = 3) and you want all 3 hidden representations to be part of the readout, you need to set this to [0, 1, 2]. If you only want the first and last layer, you need to set this to [0, 2]\n",
    "}\n"
   ],
   "outputs": [],
   "execution_count": 60
  },
  {
   "cell_type": "code",
   "id": "1bbb51a91e218bd",
   "metadata": {
    "colab": {
     "base_uri": "https://localhost:8080/"
    },
    "id": "1bbb51a91e218bd",
    "outputId": "74fb840f-8383-4b20-c8b6-2f2a43a3aebc",
    "ExecuteTime": {
     "end_time": "2024-05-11T14:36:55.000083Z",
     "start_time": "2024-05-11T14:36:54.936419Z"
    }
   },
   "source": [
    "torch.set_printoptions(edgeitems=10)\n",
    "\n",
    "if torch.cuda.is_available():\n",
    "    args[\"device\"] = 'cuda'\n",
    "# SET THE RANDOM SEED\n",
    "torch.manual_seed(args['seed'])\n",
    "\n",
    "dataset = TUDataset(os.path.join('../../data', \"DD\"), name=\"DD\", use_node_attr=True)\n",
    "args[\"num_classes\"] = dataset.num_classes\n",
    "args[\"num_features\"] = dataset.num_features\n",
    "num_test = int(len(dataset) * 0.1)\n",
    "num_train = len(dataset) - num_test\n",
    "train_dataset, _ = torch.utils.data.random_split(dataset, [num_train, num_test])\n",
    "kfold = KFold(n_splits=5, shuffle=True, random_state=args['seed'])"
   ],
   "outputs": [],
   "execution_count": 61
  },
  {
   "cell_type": "code",
   "id": "5441549860e8b324",
   "metadata": {
    "id": "5441549860e8b324",
    "ExecuteTime": {
     "end_time": "2024-05-11T14:36:55.003467Z",
     "start_time": "2024-05-11T14:36:55.001236Z"
    }
   },
   "source": [
    "def compute_test(model, loader):\n",
    "    model.eval()\n",
    "    correct = 0.0\n",
    "    loss_test = 0.0\n",
    "    for data in loader:\n",
    "        data = data.to(args[\"device\"])\n",
    "        out = model(data)\n",
    "        pred = out.max(dim=1)[1]\n",
    "        correct += pred.eq(data.y).sum().item()\n",
    "        loss_test += F.nll_loss(out, data.y).item()\n",
    "    return correct / len(loader.dataset), loss_test"
   ],
   "outputs": [],
   "execution_count": 62
  },
  {
   "cell_type": "code",
   "id": "e8f3686eb604ef20",
   "metadata": {
    "id": "e8f3686eb604ef20",
    "ExecuteTime": {
     "end_time": "2024-05-11T14:36:55.008005Z",
     "start_time": "2024-05-11T14:36:55.004059Z"
    }
   },
   "source": [
    "def train_fold(fold, train_idx, val_idx):\n",
    "    train_subset = torch.utils.data.Subset(train_dataset, train_idx)\n",
    "    val_subset = torch.utils.data.Subset(train_dataset, val_idx)\n",
    "    \n",
    "    train_loader = DataLoader(train_subset, batch_size=args[\"batch_size\"], shuffle=True)\n",
    "    val_loader = DataLoader(val_subset, batch_size=args[\"batch_size\"], shuffle=False)\n",
    "    print(args)\n",
    "    model = models.Model(args).to(args[\"device\"])\n",
    " \n",
    "    optimizer = torch.optim.Adam(model.parameters(), lr=args[\"lr\"], weight_decay=args[\"weight_decay\"])\n",
    "    min_loss = 1e10\n",
    "    patience_cnt = 0\n",
    "    val_loss_values = []\n",
    "    val_acc_values = []\n",
    "    best_epoch = 0\n",
    "\n",
    "    t = time.time()\n",
    "    model.train()\n",
    "    for epoch in range(args[\"epochs\"]):\n",
    "        loss_train = 0.0\n",
    "        correct = 0\n",
    "        for i, data in enumerate(train_loader):\n",
    "            optimizer.zero_grad()\n",
    "            data = data.to(args[\"device\"])\n",
    "            out = model(data)\n",
    "            loss = F.nll_loss(out, data.y)\n",
    "            loss.backward()\n",
    "            optimizer.step()\n",
    "            loss_train += loss.item()\n",
    "            pred = out.max(dim=1)[1]\n",
    "            correct += pred.eq(data.y).sum().item()\n",
    "        acc_train = correct / len(train_loader.dataset)\n",
    "        acc_val, loss_val = compute_test(model, val_loader)\n",
    "        print('Fold:{:04d}'.format(fold), 'Epoch: {:04d}'.format(epoch), 'loss_train: {:.6f}'.format(loss_train),\n",
    "              'acc_train: {:.6f}'.format(acc_train), 'loss_val: {:.6f}'.format(loss_val),\n",
    "              'acc_val: {:.6f}'.format(acc_val), 'time: {:.6f}s'.format(time.time() - t))\n",
    "        \n",
    "        val_loss_values.append(loss_val)\n",
    "        val_acc_values.append(acc_val)\n",
    "        if val_loss_values[-1] < min_loss:\n",
    "            min_loss = val_loss_values[-1]\n",
    "            best_epoch = epoch\n",
    "            patience_cnt = 0\n",
    "        else:\n",
    "            patience_cnt += 1\n",
    "\n",
    "        if patience_cnt == args[\"patience\"]:\n",
    "            break\n",
    "\n",
    "        \n",
    "    print('Optimization Finished! Total time elapsed: {:.6f}'.format(time.time() - t))\n",
    "    return val_acc_values[best_epoch], val_loss_values[best_epoch]"
   ],
   "outputs": [],
   "execution_count": 63
  },
  {
   "metadata": {
    "ExecuteTime": {
     "end_time": "2024-05-11T14:36:55.010647Z",
     "start_time": "2024-05-11T14:36:55.009040Z"
    }
   },
   "cell_type": "code",
   "source": [
    "def select_layers_readout(layers,idx):\n",
    "    if idx == 1:\n",
    "        return [i for i in range(layers)]\n",
    "    elif idx == 2:\n",
    "        return [0]\n",
    "    else:\n",
    "        return [layers-1]"
   ],
   "id": "36361caac45c7516",
   "outputs": [],
   "execution_count": 64
  },
  {
   "metadata": {
    "ExecuteTime": {
     "end_time": "2024-05-11T16:27:50.484792300Z",
     "start_time": "2024-05-11T16:27:50.480416100Z"
    }
   },
   "cell_type": "code",
   "source": [
    "import json\n",
    "\n",
    "def save_to_json(data):\n",
    "    json_string = json.dumps(data, indent=4)\n",
    "\n",
    "    with open('cv_results.json', 'w') as file:\n",
    "        file.write(json_string)"
   ],
   "id": "36c5b67f23ff0242",
   "outputs": [],
   "execution_count": 1
  },
  {
   "metadata": {
    "ExecuteTime": {
     "end_time": "2024-05-11T14:36:55.015164Z",
     "start_time": "2024-05-11T14:36:55.013271Z"
    }
   },
   "cell_type": "code",
   "source": [
    "combination_matrix = []\n",
    "layers = [2,3]\n",
    "pool_ratio = [0.2,0.5,0.8]\n",
    "node_inf_score_metric = [\"man\",\"euc\"]\n",
    "layers_readout = [1,2,3]\n",
    "\n",
    "for l in layers:\n",
    "    for p in pool_ratio:\n",
    "        for s_m in node_inf_score_metric:\n",
    "            for lr in layers_readout:\n",
    "                lr = select_layers_readout(l,lr)\n",
    "                args['num_layers'] = l\n",
    "                args['pooling_ratio'] = p\n",
    "                args['dist'] = s_m\n",
    "                args['layers_readout'] = lr\n",
    "                combination_matrix.append(args.copy())\n",
    "                "
   ],
   "id": "562e0815198a7017",
   "outputs": [],
   "execution_count": 66
  },
  {
   "metadata": {
    "ExecuteTime": {
     "end_time": "2024-05-11T14:36:55.017543Z",
     "start_time": "2024-05-11T14:36:55.015565Z"
    }
   },
   "cell_type": "code",
   "source": [
    "print(len(combination_matrix))\n",
    "combination_matrix[0]"
   ],
   "id": "a2d03c49111c7131",
   "outputs": [
    {
     "name": "stdout",
     "output_type": "stream",
     "text": [
      "36\n"
     ]
    },
    {
     "data": {
      "text/plain": [
       "{'device': 'cuda',\n",
       " 'seed': 777,\n",
       " 'batch_size': 64,\n",
       " 'lr': 0.0001,\n",
       " 'weight_decay': 0.001,\n",
       " 'epochs': 1000,\n",
       " 'patience': 100,\n",
       " 'nhid': 128,\n",
       " 'pooling_ratio': 0.2,\n",
       " 'dropout_ratio': 0.5,\n",
       " 'sample_neighbor': True,\n",
       " 'sparse_attention': True,\n",
       " 'structure_learning': True,\n",
       " 'negative_slope': 0.2,\n",
       " 'lamb': 1.0,\n",
       " 'dist': 'man',\n",
       " 'num_layers': 2,\n",
       " 'layers_readout': [0, 1],\n",
       " 'num_classes': 2,\n",
       " 'num_features': 89}"
      ]
     },
     "execution_count": 67,
     "metadata": {},
     "output_type": "execute_result"
    }
   ],
   "execution_count": 67
  },
  {
   "metadata": {
    "ExecuteTime": {
     "end_time": "2024-05-11T14:36:55.020458Z",
     "start_time": "2024-05-11T14:36:55.018014Z"
    }
   },
   "cell_type": "code",
   "source": [
    "try:\n",
    "    with open('cv_results.json', 'r') as file:\n",
    "        data = json.load(file)\n",
    "        \n",
    "except:\n",
    "    data = []\n",
    "already_trained = len(data)\n",
    "print(already_trained)\n",
    "print(data[-1])\n",
    "print(type(data[-1]))"
   ],
   "id": "354b8c6f8ae5048a",
   "outputs": [
    {
     "name": "stdout",
     "output_type": "stream",
     "text": [
      "1\n",
      "{'arguments': {'device': 'cuda', 'seed': 777, 'batch_size': 64, 'lr': 0.0001, 'weight_decay': 0.001, 'epochs': 1000, 'patience': 100, 'nhid': 128, 'pooling_ratio': 0.2, 'dropout_ratio': 0.5, 'sample_neighbor': True, 'sparse_attention': True, 'structure_learning': True, 'negative_slope': 0.2, 'lamb': 1.0, 'dist': 'man', 'num_layers': 2, 'layers_readout': [0, 1], 'num_classes': 2, 'num_features': 89}, 'average fold accuracy': 0.7596598458676588, 'average fold loss': 2.0377333223819734}\n",
      "<class 'dict'>\n"
     ]
    }
   ],
   "execution_count": 68
  },
  {
   "metadata": {},
   "cell_type": "code",
   "source": [
    "from google.colab import files\n",
    "def download_file():\n",
    "    files.download('cv_results.json')"
   ],
   "id": "a679b6456cbd21d0",
   "outputs": [],
   "execution_count": null
  },
  {
   "metadata": {},
   "cell_type": "code",
   "source": [
    "for i in range(already_trained,len(combination_matrix)):\n",
    "    results = []\n",
    "    args = combination_matrix[i]\n",
    "    for fold, (train_idx, val_idx) in enumerate(kfold.split(np.arange(len(train_dataset)))):\n",
    "        val_acc, val_loss = train_fold(fold, train_idx, val_idx)\n",
    "        results.append((val_acc, val_loss))\n",
    "    avg_fold_acc,avg_fold_loss = np.array(results).mean(axis=0)\n",
    "    data.append({'arguments':args, 'average fold accuracy':avg_fold_acc,'average fold loss': avg_fold_loss})\n",
    "    save_to_json(data)\n",
    "    print(f\"Cross-validation results: {avg_fold_acc} / {avg_fold_loss}, with the args {args}\")\n",
    "    if 'google.colab' in sys.modules:\n",
    "        download_file()"
   ],
   "id": "c735c10f6df72792",
   "outputs": [],
   "execution_count": null
  },
  {
   "cell_type": "code",
   "execution_count": null,
   "outputs": [],
   "source": [],
   "metadata": {
    "collapsed": false
   },
   "id": "96e594f034386454"
  }
 ],
 "metadata": {
  "accelerator": "GPU",
  "colab": {
   "gpuType": "T4",
   "provenance": []
  },
  "kernelspec": {
   "display_name": "Python 3 (ipykernel)",
   "language": "python",
   "name": "python3"
  },
  "language_info": {
   "codemirror_mode": {
    "name": "ipython",
    "version": 2
   },
   "file_extension": ".py",
   "mimetype": "text/x-python",
   "name": "python",
   "nbconvert_exporter": "python",
   "pygments_lexer": "ipython2",
   "version": "2.7.6"
  }
 },
 "nbformat": 4,
 "nbformat_minor": 5
}
