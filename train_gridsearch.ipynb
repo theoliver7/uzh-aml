{
 "cells": [
  {
   "cell_type": "code",
   "id": "0nqzYuKimGdm",
   "metadata": {
    "colab": {
     "base_uri": "https://localhost:8080/"
    },
    "id": "0nqzYuKimGdm",
    "outputId": "bd5523d9-5656-47af-ef65-a6a3c28a7c56",
    "ExecuteTime": {
     "end_time": "2024-05-12T19:41:01.854946Z",
     "start_time": "2024-05-12T19:41:01.846353100Z"
    }
   },
   "source": [
    "import sys\n",
    "print('google.colab' in sys.modules)\n",
    "if 'google.colab' in sys.modules:\n",
    "    !git clone https://github.com/theoliver7/uzh-aml.git\n",
    "    %cd uzh-aml\n",
    "    %load_ext tensorboard\n",
    "    !pip install -r colab-requirements.txt\n",
    "    \n"
   ],
   "outputs": [
    {
     "name": "stdout",
     "output_type": "stream",
     "text": [
      "False\n"
     ]
    }
   ],
   "execution_count": 1
  },
  {
   "cell_type": "code",
   "id": "initial_id",
   "metadata": {
    "collapsed": true,
    "id": "initial_id",
    "ExecuteTime": {
     "end_time": "2024-05-12T19:41:11.820423900Z",
     "start_time": "2024-05-12T19:41:01.855945600Z"
    }
   },
   "source": [
    "import glob\n",
    "import importlib\n",
    "import os\n",
    "import time\n",
    "\n",
    "import numpy as np\n",
    "import torch\n",
    "import torch.nn.functional as F\n",
    "from sklearn.model_selection import KFold\n",
    "from torch.utils.data import random_split\n",
    "from torch_geometric.datasets import TUDataset\n",
    "from torch_geometric.loader import DataLoader\n",
    "\n",
    "# IMPORT THE MODEL TO BE TRAINED !!!\n",
    "import models.hgp_sl_param.models as models"
   ],
   "outputs": [],
   "execution_count": 2
  },
  {
   "cell_type": "code",
   "id": "70a4db1f4e8785de",
   "metadata": {
    "colab": {
     "base_uri": "https://localhost:8080/"
    },
    "id": "70a4db1f4e8785de",
    "outputId": "ad6a61fe-b1cd-416a-9cd7-1749e19d7b4d",
    "ExecuteTime": {
     "end_time": "2024-05-12T19:41:11.863276200Z",
     "start_time": "2024-05-12T19:41:11.821424900Z"
    }
   },
   "source": [
    "# Refresh model so that code is updated directly\n",
    "importlib.reload(models)"
   ],
   "outputs": [
    {
     "data": {
      "text/plain": "<module 'models.hgp_sl_param.models' from 'C:\\\\Users\\\\carlo\\\\Desktop\\\\Programmieren\\\\aml\\\\uzh-aml\\\\models\\\\hgp_sl_param\\\\models.py'>"
     },
     "execution_count": 3,
     "metadata": {},
     "output_type": "execute_result"
    }
   ],
   "execution_count": 3
  },
  {
   "cell_type": "code",
   "id": "ef02e2be402f49d",
   "metadata": {
    "id": "ef02e2be402f49d",
    "ExecuteTime": {
     "end_time": "2024-05-12T19:41:11.863276200Z",
     "start_time": "2024-05-12T19:41:11.830574800Z"
    }
   },
   "source": [
    "args = {\n",
    "    'device': \"cuda\",\n",
    "    'seed': 777,\n",
    "    'batch_size': 64,\n",
    "    'lr': 0.0001,\n",
    "    'weight_decay': 0.001,\n",
    "    'epochs': 1000,\n",
    "    'patience': 100,\n",
    "    'nhid': 128,\n",
    "    'pooling_ratio': 0.3,\n",
    "    'dropout_ratio': 0.5,\n",
    "    'sample_neighbor': True,\n",
    "    'sparse_attention': True,\n",
    "    'structure_learning': True,\n",
    "    'negative_slope': 0.2,\n",
    "    'lamb': 1.0,\n",
    "    'dist': \"man\",\n",
    "    'num_layers': 2,\n",
    "    'layers_readout': [0, 1] # Assume we have 3 layers (so K = 3) and you want all 3 hidden representations to be part of the readout, you need to set this to [0, 1, 2]. If you only want the first and last layer, you need to set this to [0, 2]\n",
    "}\n"
   ],
   "outputs": [],
   "execution_count": 4
  },
  {
   "cell_type": "code",
   "id": "1bbb51a91e218bd",
   "metadata": {
    "colab": {
     "base_uri": "https://localhost:8080/"
    },
    "id": "1bbb51a91e218bd",
    "outputId": "74fb840f-8383-4b20-c8b6-2f2a43a3aebc",
    "ExecuteTime": {
     "end_time": "2024-05-12T19:41:12.092506700Z",
     "start_time": "2024-05-12T19:41:11.835277200Z"
    }
   },
   "source": [
    "torch.set_printoptions(edgeitems=10)\n",
    "print(torch.cuda.is_available())\n",
    "if torch.cuda.is_available():\n",
    "    args[\"device\"] = 'cuda'\n",
    "# SET THE RANDOM SEED\n",
    "torch.manual_seed(args['seed'])\n",
    "\n",
    "dataset = TUDataset(os.path.join('../../data', \"DD\"), name=\"DD\", use_node_attr=True)\n",
    "args[\"num_classes\"] = dataset.num_classes\n",
    "args[\"num_features\"] = dataset.num_features\n",
    "num_test = int(len(dataset) * 0.1)\n",
    "num_train = len(dataset) - num_test\n",
    "train_dataset, _ = torch.utils.data.random_split(dataset, [num_train, num_test])\n",
    "kfold = KFold(n_splits=5, shuffle=True, random_state=args['seed'])"
   ],
   "outputs": [
    {
     "name": "stdout",
     "output_type": "stream",
     "text": [
      "True\n"
     ]
    }
   ],
   "execution_count": 5
  },
  {
   "cell_type": "code",
   "id": "5441549860e8b324",
   "metadata": {
    "id": "5441549860e8b324",
    "ExecuteTime": {
     "end_time": "2024-05-12T19:41:12.092506700Z",
     "start_time": "2024-05-12T19:41:12.062630500Z"
    }
   },
   "source": [
    "def compute_test(model, loader):\n",
    "    model.eval()\n",
    "    correct = 0.0\n",
    "    loss_test = 0.0\n",
    "    for data in loader:\n",
    "        data = data.to(args[\"device\"])\n",
    "        out = model(data)\n",
    "        pred = out.max(dim=1)[1]\n",
    "        correct += pred.eq(data.y).sum().item()\n",
    "        loss_test += F.nll_loss(out, data.y).item()\n",
    "    return correct / len(loader.dataset), loss_test"
   ],
   "outputs": [],
   "execution_count": 6
  },
  {
   "cell_type": "code",
   "id": "e8f3686eb604ef20",
   "metadata": {
    "id": "e8f3686eb604ef20",
    "ExecuteTime": {
     "end_time": "2024-05-12T19:41:12.093514700Z",
     "start_time": "2024-05-12T19:41:12.076615Z"
    }
   },
   "source": [
    "def train_fold(fold, train_idx, val_idx):\n",
    "    train_subset = torch.utils.data.Subset(train_dataset, train_idx)\n",
    "    val_subset = torch.utils.data.Subset(train_dataset, val_idx)\n",
    "    \n",
    "    train_loader = DataLoader(train_subset, batch_size=args[\"batch_size\"], shuffle=True)\n",
    "    val_loader = DataLoader(val_subset, batch_size=args[\"batch_size\"], shuffle=False)\n",
    "    print(args)\n",
    "    model = models.Model(args).to(args[\"device\"])\n",
    " \n",
    "    optimizer = torch.optim.Adam(model.parameters(), lr=args[\"lr\"], weight_decay=args[\"weight_decay\"])\n",
    "    min_loss = 1e10\n",
    "    patience_cnt = 0\n",
    "    val_loss_values = []\n",
    "    val_acc_values = []\n",
    "    best_epoch = 0\n",
    "\n",
    "    t = time.time()\n",
    "    model.train()\n",
    "    for epoch in range(args[\"epochs\"]):\n",
    "        loss_train = 0.0\n",
    "        correct = 0\n",
    "        for i, data in enumerate(train_loader):\n",
    "            optimizer.zero_grad()\n",
    "            data = data.to(args[\"device\"])\n",
    "            out = model(data)\n",
    "            loss = F.nll_loss(out, data.y)\n",
    "            loss.backward()\n",
    "            optimizer.step()\n",
    "            loss_train += loss.item()\n",
    "            pred = out.max(dim=1)[1]\n",
    "            correct += pred.eq(data.y).sum().item()\n",
    "        acc_train = correct / len(train_loader.dataset)\n",
    "        acc_val, loss_val = compute_test(model, val_loader)\n",
    "        print('Fold:{:04d}'.format(fold), 'Epoch: {:04d}'.format(epoch), 'loss_train: {:.6f}'.format(loss_train),\n",
    "              'acc_train: {:.6f}'.format(acc_train), 'loss_val: {:.6f}'.format(loss_val),\n",
    "              'acc_val: {:.6f}'.format(acc_val), 'time: {:.6f}s'.format(time.time() - t))\n",
    "        \n",
    "        val_loss_values.append(loss_val)\n",
    "        val_acc_values.append(acc_val)\n",
    "        if val_loss_values[-1] < min_loss:\n",
    "            min_loss = val_loss_values[-1]\n",
    "            best_epoch = epoch\n",
    "            patience_cnt = 0\n",
    "        else:\n",
    "            patience_cnt += 1\n",
    "\n",
    "        if patience_cnt == args[\"patience\"]:\n",
    "            break\n",
    "\n",
    "        \n",
    "    print('Optimization Finished! Total time elapsed: {:.6f}'.format(time.time() - t))\n",
    "    print('Fold:{:04d}'.format(fold), 'Best Epoch: {:04d}'.format(best_epoch), 'Val Loss: {:.6f}'.format(val_loss_values[best_epoch]), 'Val Acc: {:.6f}'.format(val_acc_values[best_epoch]))\n",
    "    return val_acc_values[best_epoch], val_loss_values[best_epoch]"
   ],
   "outputs": [],
   "execution_count": 7
  },
  {
   "metadata": {
    "ExecuteTime": {
     "end_time": "2024-05-12T19:41:12.093514700Z",
     "start_time": "2024-05-12T19:41:12.083798100Z"
    }
   },
   "cell_type": "code",
   "source": [
    "def select_layers_readout(layers,idx):\n",
    "    if idx == 1:\n",
    "        return [i for i in range(layers)]\n",
    "    elif idx == 2:\n",
    "        return [0]\n",
    "    else:\n",
    "        return [layers-1]"
   ],
   "id": "36361caac45c7516",
   "outputs": [],
   "execution_count": 8
  },
  {
   "metadata": {
    "ExecuteTime": {
     "end_time": "2024-05-12T19:41:12.145790900Z",
     "start_time": "2024-05-12T19:41:12.088545700Z"
    }
   },
   "cell_type": "code",
   "source": [
    "import json\n",
    "\n",
    "def save_to_json(data):\n",
    "    json_string = json.dumps(data, indent=4)\n",
    "\n",
    "    with open('cv_results.json', 'w') as file:\n",
    "        file.write(json_string)"
   ],
   "id": "36c5b67f23ff0242",
   "outputs": [],
   "execution_count": 9
  },
  {
   "metadata": {
    "ExecuteTime": {
     "end_time": "2024-05-12T19:41:12.145790900Z",
     "start_time": "2024-05-12T19:41:12.097517500Z"
    }
   },
   "cell_type": "code",
   "source": [
    "combination_matrix = []\n",
    "layers = [2,3]\n",
    "pool_ratio = [0.2,0.5,0.8]\n",
    "node_inf_score_metric = [\"man\",\"euc\"]\n",
    "layers_readout = [1,2,3]\n",
    "\n",
    "for l in layers:\n",
    "    for p in pool_ratio:\n",
    "        for s_m in node_inf_score_metric:\n",
    "            for lr in layers_readout:\n",
    "                lr = select_layers_readout(l,lr)\n",
    "                args['num_layers'] = l\n",
    "                args['pooling_ratio'] = p\n",
    "                args['dist'] = s_m\n",
    "                args['layers_readout'] = lr\n",
    "                combination_matrix.append(args.copy())\n",
    "                "
   ],
   "id": "562e0815198a7017",
   "outputs": [],
   "execution_count": 10
  },
  {
   "metadata": {
    "ExecuteTime": {
     "end_time": "2024-05-12T19:41:12.273291800Z",
     "start_time": "2024-05-12T19:41:12.103206500Z"
    }
   },
   "cell_type": "code",
   "source": [
    "print(len(combination_matrix))\n",
    "combination_matrix[0]"
   ],
   "id": "a2d03c49111c7131",
   "outputs": [
    {
     "name": "stdout",
     "output_type": "stream",
     "text": [
      "36\n"
     ]
    },
    {
     "data": {
      "text/plain": "{'device': 'cuda',\n 'seed': 777,\n 'batch_size': 64,\n 'lr': 0.0001,\n 'weight_decay': 0.001,\n 'epochs': 1000,\n 'patience': 100,\n 'nhid': 128,\n 'pooling_ratio': 0.2,\n 'dropout_ratio': 0.5,\n 'sample_neighbor': True,\n 'sparse_attention': True,\n 'structure_learning': True,\n 'negative_slope': 0.2,\n 'lamb': 1.0,\n 'dist': 'man',\n 'num_layers': 2,\n 'layers_readout': [0, 1],\n 'num_classes': 2,\n 'num_features': 89}"
     },
     "execution_count": 11,
     "metadata": {},
     "output_type": "execute_result"
    }
   ],
   "execution_count": 11
  },
  {
   "metadata": {
    "ExecuteTime": {
     "end_time": "2024-05-12T19:41:12.317297300Z",
     "start_time": "2024-05-12T19:41:12.113462400Z"
    }
   },
   "cell_type": "code",
   "source": [
    "try:\n",
    "    with open('cv_results.json', 'r') as file:\n",
    "        data = json.load(file)\n",
    "        \n",
    "except:\n",
    "    data = []\n",
    "already_trained = len(data)\n",
    "print(already_trained)\n",
    "print(data[-1])\n",
    "print(type(data[-1]))"
   ],
   "id": "354b8c6f8ae5048a",
   "outputs": [
    {
     "name": "stdout",
     "output_type": "stream",
     "text": [
      "14\n",
      "{'arguments': {'device': 'cuda', 'seed': 777, 'batch_size': 64, 'lr': 0.0001, 'weight_decay': 0.001, 'epochs': 1000, 'patience': 100, 'nhid': 128, 'pooling_ratio': 0.8, 'dropout_ratio': 0.5, 'sample_neighbor': True, 'sparse_attention': True, 'structure_learning': True, 'negative_slope': 0.2, 'lamb': 1.0, 'dist': 'man', 'num_layers': 2, 'layers_readout': [0], 'num_classes': 2, 'num_features': 89}, 'average fold accuracy': 0.7624811763663744, 'average fold loss': 1.9839464962482452}\n",
      "<class 'dict'>\n"
     ]
    }
   ],
   "execution_count": 12
  },
  {
   "metadata": {
    "ExecuteTime": {
     "end_time": "2024-05-12T19:41:12.365292700Z",
     "start_time": "2024-05-12T19:41:12.128793400Z"
    }
   },
   "cell_type": "code",
   "source": [
    "from google.colab import files\n",
    "def download_file():\n",
    "    files.download('cv_results.json')"
   ],
   "id": "a679b6456cbd21d0",
   "outputs": [
    {
     "ename": "ModuleNotFoundError",
     "evalue": "No module named 'google'",
     "output_type": "error",
     "traceback": [
      "\u001B[1;31m---------------------------------------------------------------------------\u001B[0m",
      "\u001B[1;31mModuleNotFoundError\u001B[0m                       Traceback (most recent call last)",
      "Cell \u001B[1;32mIn[13], line 1\u001B[0m\n\u001B[1;32m----> 1\u001B[0m \u001B[38;5;28;01mfrom\u001B[39;00m \u001B[38;5;21;01mgoogle\u001B[39;00m\u001B[38;5;21;01m.\u001B[39;00m\u001B[38;5;21;01mcolab\u001B[39;00m \u001B[38;5;28;01mimport\u001B[39;00m files\n\u001B[0;32m      2\u001B[0m \u001B[38;5;28;01mdef\u001B[39;00m \u001B[38;5;21mdownload_file\u001B[39m():\n\u001B[0;32m      3\u001B[0m     files\u001B[38;5;241m.\u001B[39mdownload(\u001B[38;5;124m'\u001B[39m\u001B[38;5;124mcv_results.json\u001B[39m\u001B[38;5;124m'\u001B[39m)\n",
      "\u001B[1;31mModuleNotFoundError\u001B[0m: No module named 'google'"
     ]
    }
   ],
   "execution_count": 13
  },
  {
   "metadata": {
    "ExecuteTime": {
     "end_time": "2024-05-12T19:41:36.860279400Z",
     "start_time": "2024-05-12T19:41:22.443923300Z"
    }
   },
   "cell_type": "code",
   "source": [
    "for i in range(already_trained,len(combination_matrix)):\n",
    "    results = []\n",
    "    args = combination_matrix[i]\n",
    "    for fold, (train_idx, val_idx) in enumerate(kfold.split(np.arange(len(train_dataset)))):\n",
    "        val_acc, val_loss = train_fold(fold, train_idx, val_idx)\n",
    "        results.append((val_acc, val_loss))\n",
    "    avg_fold_acc,avg_fold_loss = np.array(results).mean(axis=0)\n",
    "    data.append({'arguments':args, 'average fold accuracy':avg_fold_acc,'average fold loss': avg_fold_loss})\n",
    "    save_to_json(data)\n",
    "    print(f\"Cross-validation results: {avg_fold_acc} / {avg_fold_loss}, with the args {args}\")\n",
    "    #if 'google.colab' in sys.modules:\n",
    "        # download_file() I commented this out because it does not seem to work. I will download the file manually"
   ],
   "id": "c735c10f6df72792",
   "outputs": [
    {
     "name": "stdout",
     "output_type": "stream",
     "text": [
      "{'device': 'cuda', 'seed': 777, 'batch_size': 64, 'lr': 0.0001, 'weight_decay': 0.001, 'epochs': 1000, 'patience': 100, 'nhid': 128, 'pooling_ratio': 0.8, 'dropout_ratio': 0.5, 'sample_neighbor': True, 'sparse_attention': True, 'structure_learning': True, 'negative_slope': 0.2, 'lamb': 1.0, 'dist': 'man', 'num_layers': 2, 'layers_readout': [1], 'num_classes': 2, 'num_features': 89}\n"
     ]
    },
    {
     "ename": "OutOfMemoryError",
     "evalue": "CUDA out of memory. Tried to allocate 1.21 GiB. GPU ",
     "output_type": "error",
     "traceback": [
      "\u001B[1;31m---------------------------------------------------------------------------\u001B[0m",
      "\u001B[1;31mOutOfMemoryError\u001B[0m                          Traceback (most recent call last)",
      "Cell \u001B[1;32mIn[14], line 5\u001B[0m\n\u001B[0;32m      3\u001B[0m args \u001B[38;5;241m=\u001B[39m combination_matrix[i]\n\u001B[0;32m      4\u001B[0m \u001B[38;5;28;01mfor\u001B[39;00m fold, (train_idx, val_idx) \u001B[38;5;129;01min\u001B[39;00m \u001B[38;5;28menumerate\u001B[39m(kfold\u001B[38;5;241m.\u001B[39msplit(np\u001B[38;5;241m.\u001B[39marange(\u001B[38;5;28mlen\u001B[39m(train_dataset)))):\n\u001B[1;32m----> 5\u001B[0m     val_acc, val_loss \u001B[38;5;241m=\u001B[39m \u001B[43mtrain_fold\u001B[49m\u001B[43m(\u001B[49m\u001B[43mfold\u001B[49m\u001B[43m,\u001B[49m\u001B[43m \u001B[49m\u001B[43mtrain_idx\u001B[49m\u001B[43m,\u001B[49m\u001B[43m \u001B[49m\u001B[43mval_idx\u001B[49m\u001B[43m)\u001B[49m\n\u001B[0;32m      6\u001B[0m     results\u001B[38;5;241m.\u001B[39mappend((val_acc, val_loss))\n\u001B[0;32m      7\u001B[0m avg_fold_acc,avg_fold_loss \u001B[38;5;241m=\u001B[39m np\u001B[38;5;241m.\u001B[39marray(results)\u001B[38;5;241m.\u001B[39mmean(axis\u001B[38;5;241m=\u001B[39m\u001B[38;5;241m0\u001B[39m)\n",
      "Cell \u001B[1;32mIn[7], line 27\u001B[0m, in \u001B[0;36mtrain_fold\u001B[1;34m(fold, train_idx, val_idx)\u001B[0m\n\u001B[0;32m     25\u001B[0m out \u001B[38;5;241m=\u001B[39m model(data)\n\u001B[0;32m     26\u001B[0m loss \u001B[38;5;241m=\u001B[39m F\u001B[38;5;241m.\u001B[39mnll_loss(out, data\u001B[38;5;241m.\u001B[39my)\n\u001B[1;32m---> 27\u001B[0m \u001B[43mloss\u001B[49m\u001B[38;5;241;43m.\u001B[39;49m\u001B[43mbackward\u001B[49m\u001B[43m(\u001B[49m\u001B[43m)\u001B[49m\n\u001B[0;32m     28\u001B[0m optimizer\u001B[38;5;241m.\u001B[39mstep()\n\u001B[0;32m     29\u001B[0m loss_train \u001B[38;5;241m+\u001B[39m\u001B[38;5;241m=\u001B[39m loss\u001B[38;5;241m.\u001B[39mitem()\n",
      "File \u001B[1;32m~\\AppData\\Local\\Programs\\Python\\Python311\\Lib\\site-packages\\torch\\_tensor.py:525\u001B[0m, in \u001B[0;36mTensor.backward\u001B[1;34m(self, gradient, retain_graph, create_graph, inputs)\u001B[0m\n\u001B[0;32m    515\u001B[0m \u001B[38;5;28;01mif\u001B[39;00m has_torch_function_unary(\u001B[38;5;28mself\u001B[39m):\n\u001B[0;32m    516\u001B[0m     \u001B[38;5;28;01mreturn\u001B[39;00m handle_torch_function(\n\u001B[0;32m    517\u001B[0m         Tensor\u001B[38;5;241m.\u001B[39mbackward,\n\u001B[0;32m    518\u001B[0m         (\u001B[38;5;28mself\u001B[39m,),\n\u001B[1;32m   (...)\u001B[0m\n\u001B[0;32m    523\u001B[0m         inputs\u001B[38;5;241m=\u001B[39minputs,\n\u001B[0;32m    524\u001B[0m     )\n\u001B[1;32m--> 525\u001B[0m \u001B[43mtorch\u001B[49m\u001B[38;5;241;43m.\u001B[39;49m\u001B[43mautograd\u001B[49m\u001B[38;5;241;43m.\u001B[39;49m\u001B[43mbackward\u001B[49m\u001B[43m(\u001B[49m\n\u001B[0;32m    526\u001B[0m \u001B[43m    \u001B[49m\u001B[38;5;28;43mself\u001B[39;49m\u001B[43m,\u001B[49m\u001B[43m \u001B[49m\u001B[43mgradient\u001B[49m\u001B[43m,\u001B[49m\u001B[43m \u001B[49m\u001B[43mretain_graph\u001B[49m\u001B[43m,\u001B[49m\u001B[43m \u001B[49m\u001B[43mcreate_graph\u001B[49m\u001B[43m,\u001B[49m\u001B[43m \u001B[49m\u001B[43minputs\u001B[49m\u001B[38;5;241;43m=\u001B[39;49m\u001B[43minputs\u001B[49m\n\u001B[0;32m    527\u001B[0m \u001B[43m\u001B[49m\u001B[43m)\u001B[49m\n",
      "File \u001B[1;32m~\\AppData\\Local\\Programs\\Python\\Python311\\Lib\\site-packages\\torch\\autograd\\__init__.py:267\u001B[0m, in \u001B[0;36mbackward\u001B[1;34m(tensors, grad_tensors, retain_graph, create_graph, grad_variables, inputs)\u001B[0m\n\u001B[0;32m    262\u001B[0m     retain_graph \u001B[38;5;241m=\u001B[39m create_graph\n\u001B[0;32m    264\u001B[0m \u001B[38;5;66;03m# The reason we repeat the same comment below is that\u001B[39;00m\n\u001B[0;32m    265\u001B[0m \u001B[38;5;66;03m# some Python versions print out the first line of a multi-line function\u001B[39;00m\n\u001B[0;32m    266\u001B[0m \u001B[38;5;66;03m# calls in the traceback and some print out the last line\u001B[39;00m\n\u001B[1;32m--> 267\u001B[0m \u001B[43m_engine_run_backward\u001B[49m\u001B[43m(\u001B[49m\n\u001B[0;32m    268\u001B[0m \u001B[43m    \u001B[49m\u001B[43mtensors\u001B[49m\u001B[43m,\u001B[49m\n\u001B[0;32m    269\u001B[0m \u001B[43m    \u001B[49m\u001B[43mgrad_tensors_\u001B[49m\u001B[43m,\u001B[49m\n\u001B[0;32m    270\u001B[0m \u001B[43m    \u001B[49m\u001B[43mretain_graph\u001B[49m\u001B[43m,\u001B[49m\n\u001B[0;32m    271\u001B[0m \u001B[43m    \u001B[49m\u001B[43mcreate_graph\u001B[49m\u001B[43m,\u001B[49m\n\u001B[0;32m    272\u001B[0m \u001B[43m    \u001B[49m\u001B[43minputs\u001B[49m\u001B[43m,\u001B[49m\n\u001B[0;32m    273\u001B[0m \u001B[43m    \u001B[49m\u001B[43mallow_unreachable\u001B[49m\u001B[38;5;241;43m=\u001B[39;49m\u001B[38;5;28;43;01mTrue\u001B[39;49;00m\u001B[43m,\u001B[49m\n\u001B[0;32m    274\u001B[0m \u001B[43m    \u001B[49m\u001B[43maccumulate_grad\u001B[49m\u001B[38;5;241;43m=\u001B[39;49m\u001B[38;5;28;43;01mTrue\u001B[39;49;00m\u001B[43m,\u001B[49m\n\u001B[0;32m    275\u001B[0m \u001B[43m\u001B[49m\u001B[43m)\u001B[49m\n",
      "File \u001B[1;32m~\\AppData\\Local\\Programs\\Python\\Python311\\Lib\\site-packages\\torch\\autograd\\graph.py:744\u001B[0m, in \u001B[0;36m_engine_run_backward\u001B[1;34m(t_outputs, *args, **kwargs)\u001B[0m\n\u001B[0;32m    742\u001B[0m     unregister_hooks \u001B[38;5;241m=\u001B[39m _register_logging_hooks_on_whole_graph(t_outputs)\n\u001B[0;32m    743\u001B[0m \u001B[38;5;28;01mtry\u001B[39;00m:\n\u001B[1;32m--> 744\u001B[0m     \u001B[38;5;28;01mreturn\u001B[39;00m \u001B[43mVariable\u001B[49m\u001B[38;5;241;43m.\u001B[39;49m\u001B[43m_execution_engine\u001B[49m\u001B[38;5;241;43m.\u001B[39;49m\u001B[43mrun_backward\u001B[49m\u001B[43m(\u001B[49m\u001B[43m  \u001B[49m\u001B[38;5;66;43;03m# Calls into the C++ engine to run the backward pass\u001B[39;49;00m\n\u001B[0;32m    745\u001B[0m \u001B[43m        \u001B[49m\u001B[43mt_outputs\u001B[49m\u001B[43m,\u001B[49m\u001B[43m \u001B[49m\u001B[38;5;241;43m*\u001B[39;49m\u001B[43margs\u001B[49m\u001B[43m,\u001B[49m\u001B[43m \u001B[49m\u001B[38;5;241;43m*\u001B[39;49m\u001B[38;5;241;43m*\u001B[39;49m\u001B[43mkwargs\u001B[49m\n\u001B[0;32m    746\u001B[0m \u001B[43m    \u001B[49m\u001B[43m)\u001B[49m  \u001B[38;5;66;03m# Calls into the C++ engine to run the backward pass\u001B[39;00m\n\u001B[0;32m    747\u001B[0m \u001B[38;5;28;01mfinally\u001B[39;00m:\n\u001B[0;32m    748\u001B[0m     \u001B[38;5;28;01mif\u001B[39;00m attach_logging_hooks:\n",
      "\u001B[1;31mOutOfMemoryError\u001B[0m: CUDA out of memory. Tried to allocate 1.21 GiB. GPU "
     ]
    }
   ],
   "execution_count": 14
  },
  {
   "cell_type": "code",
   "execution_count": null,
   "outputs": [],
   "source": [],
   "metadata": {
    "collapsed": false,
    "ExecuteTime": {
     "start_time": "2024-05-12T19:41:12.261293100Z"
    }
   },
   "id": "96e594f034386454"
  }
 ],
 "metadata": {
  "accelerator": "GPU",
  "colab": {
   "gpuType": "T4",
   "provenance": []
  },
  "kernelspec": {
   "display_name": "Python 3 (ipykernel)",
   "language": "python",
   "name": "python3"
  },
  "language_info": {
   "codemirror_mode": {
    "name": "ipython",
    "version": 2
   },
   "file_extension": ".py",
   "mimetype": "text/x-python",
   "name": "python",
   "nbconvert_exporter": "python",
   "pygments_lexer": "ipython2",
   "version": "2.7.6"
  }
 },
 "nbformat": 4,
 "nbformat_minor": 5
}
