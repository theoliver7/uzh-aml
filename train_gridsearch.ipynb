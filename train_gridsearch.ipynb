{
 "cells": [
  {
   "cell_type": "code",
   "execution_count": null,
   "id": "0nqzYuKimGdm",
   "metadata": {
    "ExecuteTime": {
     "end_time": "2024-05-07T11:05:19.843090Z",
     "start_time": "2024-05-07T11:05:19.829971Z"
    },
    "colab": {
     "base_uri": "https://localhost:8080/"
    },
    "id": "0nqzYuKimGdm",
    "outputId": "bd5523d9-5656-47af-ef65-a6a3c28a7c56"
   },
   "outputs": [],
   "source": [
    "import sys\n",
    "print('google.colab' in sys.modules)\n",
    "if 'google.colab' in sys.modules:\n",
    "    !git clone https://github.com/theoliver7/uzh-aml.git\n",
    "    %cd uzh-aml\n",
    "    %load_ext tensorboard\n",
    "    !pip install -r colab-requirements.txt\n",
    "    \n"
   ]
  },
  {
   "cell_type": "code",
   "execution_count": null,
   "id": "initial_id",
   "metadata": {
    "ExecuteTime": {
     "end_time": "2024-05-07T11:05:20.333629Z",
     "start_time": "2024-05-07T11:05:20.329993Z"
    },
    "collapsed": true,
    "id": "initial_id"
   },
   "outputs": [],
   "source": [
    "import glob\n",
    "import importlib\n",
    "import os\n",
    "import time\n",
    "\n",
    "import numpy as np\n",
    "import torch\n",
    "import torch.nn.functional as F\n",
    "from sklearn.model_selection import KFold\n",
    "from torch.utils.data import random_split\n",
    "from torch_geometric.datasets import TUDataset\n",
    "from torch_geometric.loader import DataLoader\n",
    "\n",
    "# IMPORT THE MODEL TO BE TRAINED !!!\n",
    "import models.hgp_sl_param.models as models"
   ]
  },
  {
   "cell_type": "code",
   "execution_count": null,
   "id": "70a4db1f4e8785de",
   "metadata": {
    "ExecuteTime": {
     "end_time": "2024-05-07T11:05:20.467309Z",
     "start_time": "2024-05-07T11:05:20.463031Z"
    },
    "colab": {
     "base_uri": "https://localhost:8080/"
    },
    "id": "70a4db1f4e8785de",
    "outputId": "ad6a61fe-b1cd-416a-9cd7-1749e19d7b4d"
   },
   "outputs": [],
   "source": [
    "# Refresh model so that code is updated directly\n",
    "importlib.reload(models)"
   ]
  },
  {
   "cell_type": "code",
   "execution_count": null,
   "id": "ef02e2be402f49d",
   "metadata": {
    "ExecuteTime": {
     "end_time": "2024-05-07T11:05:20.616432Z",
     "start_time": "2024-05-07T11:05:20.611820Z"
    },
    "id": "ef02e2be402f49d"
   },
   "outputs": [],
   "source": [
    "args = {\n",
    "    'device': \"cuda\",\n",
    "    'seed': 777,\n",
    "    'batch_size': 64,\n",
    "    'lr': 0.0001,\n",
    "    'weight_decay': 0.001,\n",
    "    'epochs': 1000,\n",
    "    'patience': 100,\n",
    "    'nhid': 128,\n",
    "    'pooling_ratio': 0.3,\n",
    "    'dropout_ratio': 0.5,\n",
    "    'sample_neighbor': True,\n",
    "    'sparse_attention': True,\n",
    "    'structure_learning': True,\n",
    "    'negative_slope': 0.2,\n",
    "    'lamb': 1.0,\n",
    "    'dist': \"man\",\n",
    "    'num_layers': 2,\n",
    "    'layers_readout': [0, 1] # Assume we have 3 layers (so K = 3) and you want all 3 hidden representations to be part of the readout, you need to set this to [0, 1, 2]. If you only want the first and last layer, you need to set this to [0, 2]\n",
    "}\n"
   ]
  },
  {
   "cell_type": "code",
   "execution_count": null,
   "id": "1bbb51a91e218bd",
   "metadata": {
    "ExecuteTime": {
     "end_time": "2024-05-07T11:05:21.012558Z",
     "start_time": "2024-05-07T11:05:20.937392Z"
    },
    "colab": {
     "base_uri": "https://localhost:8080/"
    },
    "id": "1bbb51a91e218bd",
    "outputId": "74fb840f-8383-4b20-c8b6-2f2a43a3aebc"
   },
   "outputs": [],
   "source": [
    "torch.set_printoptions(edgeitems=10)\n",
    "\n",
    "if torch.cuda.is_available():\n",
    "    args[\"device\"] = 'cuda'\n",
    "# SET THE RANDOM SEED\n",
    "torch.manual_seed(args['seed'])\n",
    "\n",
    "dataset = TUDataset(os.path.join('../../data', \"DD\"), name=\"DD\", use_node_attr=True)\n",
    "args[\"num_classes\"] = dataset.num_classes\n",
    "args[\"num_features\"] = dataset.num_features\n",
    "num_test = int(len(dataset) * 0.1)\n",
    "num_train = len(dataset) - num_test\n",
    "train_dataset, _ = torch.utils.data.random_split(dataset, [num_train, num_test])\n",
    "kfold = KFold(n_splits=5, shuffle=True, random_state=args['seed'])"
   ]
  },
  {
   "cell_type": "code",
   "execution_count": null,
   "id": "5441549860e8b324",
   "metadata": {
    "ExecuteTime": {
     "end_time": "2024-05-07T11:05:21.109933Z",
     "start_time": "2024-05-07T11:05:21.105658Z"
    },
    "id": "5441549860e8b324"
   },
   "outputs": [],
   "source": [
    "def compute_test(model, loader):\n",
    "    model.eval()\n",
    "    correct = 0.0\n",
    "    loss_test = 0.0\n",
    "    for data in loader:\n",
    "        data = data.to(args[\"device\"])\n",
    "        out = model(data)\n",
    "        pred = out.max(dim=1)[1]\n",
    "        correct += pred.eq(data.y).sum().item()\n",
    "        loss_test += F.nll_loss(out, data.y).item()\n",
    "    return correct / len(loader.dataset), loss_test"
   ]
  },
  {
   "cell_type": "code",
   "execution_count": null,
   "id": "e8f3686eb604ef20",
   "metadata": {
    "ExecuteTime": {
     "end_time": "2024-05-07T11:05:21.283940Z",
     "start_time": "2024-05-07T11:05:21.262504Z"
    },
    "id": "e8f3686eb604ef20"
   },
   "outputs": [],
   "source": [
    "def train_fold(fold, train_idx, val_idx):\n",
    "    train_subset = torch.utils.data.Subset(train_dataset, train_idx)\n",
    "    val_subset = torch.utils.data.Subset(train_dataset, val_idx)\n",
    "    \n",
    "    train_loader = DataLoader(train_subset, batch_size=args[\"batch_size\"], shuffle=True)\n",
    "    val_loader = DataLoader(val_subset, batch_size=args[\"batch_size\"], shuffle=False)\n",
    "\n",
    "    model = models.Model(args).to(args[\"device\"])\n",
    " \n",
    "    optimizer = torch.optim.Adam(model.parameters(), lr=args[\"lr\"], weight_decay=args[\"weight_decay\"])\n",
    "    min_loss = 1e10\n",
    "    patience_cnt = 0\n",
    "    val_loss_values = []\n",
    "    val_acc_values = []\n",
    "    best_epoch = 0\n",
    "\n",
    "    t = time.time()\n",
    "    model.train()\n",
    "    for epoch in range(args[\"epochs\"]):\n",
    "        loss_train = 0.0\n",
    "        correct = 0\n",
    "        for i, data in enumerate(train_loader):\n",
    "            optimizer.zero_grad()\n",
    "            data = data.to(args[\"device\"])\n",
    "            out = model(data)\n",
    "            loss = F.nll_loss(out, data.y)\n",
    "            loss.backward()\n",
    "            optimizer.step()\n",
    "            loss_train += loss.item()\n",
    "            pred = out.max(dim=1)[1]\n",
    "            correct += pred.eq(data.y).sum().item()\n",
    "        acc_train = correct / len(train_loader.dataset)\n",
    "        acc_val, loss_val = compute_test(model, val_loader)\n",
    "        \n",
    "        val_loss_values.append(loss_val)\n",
    "        val_acc_values.append(acc_val)\n",
    "        if val_loss_values[-1] < min_loss:\n",
    "            min_loss = val_loss_values[-1]\n",
    "            best_epoch = epoch\n",
    "            patience_cnt = 0\n",
    "        else:\n",
    "            patience_cnt += 1\n",
    "\n",
    "        if patience_cnt == args[\"patience\"]:\n",
    "            break\n",
    "\n",
    "        \n",
    "    print('Optimization Finished! Total time elapsed: {:.6f}'.format(time.time() - t))\n",
    "    return val_acc_values[best_epoch], val_loss_values[best_epoch]"
   ]
  },
  {
   "cell_type": "code",
   "execution_count": null,
   "id": "8c24a2e8d47050d5",
   "metadata": {
    "ExecuteTime": {
     "end_time": "2024-05-07T11:08:06.673173Z",
     "start_time": "2024-05-07T11:05:21.745515Z"
    },
    "colab": {
     "base_uri": "https://localhost:8080/"
    },
    "id": "8c24a2e8d47050d5",
    "outputId": "146e7185-e4b9-4268-8809-de13c023c7d1"
   },
   "outputs": [],
   "source": [
    "import json\n",
    "\n",
    "def select_layers_readout(layers,idx):\n",
    "    if idx == 1:\n",
    "        return [i for i in range(layers)]\n",
    "    elif idx == 2:\n",
    "        return [0]\n",
    "    else:\n",
    "        return [layers-1]\n",
    "\n",
    "def save_to_json(data):\n",
    "    if os.path.exists('cv_results.json'):\n",
    "        with open('cv_results.json', 'r') as f:\n",
    "            json_file_data = json.load(f)\n",
    "\n",
    "        json_file_data.append(data)\n",
    "\n",
    "        with open('cv_results.json', 'w') as f:\n",
    "            json.dump(json_file_data, f, indent=3)\n",
    "    else:\n",
    "        with open('cv_results.json', 'w') as f:\n",
    "            json.dump(data, f, indent=3)\n",
    "            \n",
    "layers = [2,3,4,5]\n",
    "pool_ratio = [0.2,0.5,0.8]\n",
    "node_inf_score_metric = [\"man\",\"euc\"]\n",
    "layers_readout = [1,2,3]\n",
    "results = []\n",
    "for l in layers:\n",
    "    for p in pool_ratio:\n",
    "        for s_m in node_inf_score_metric:\n",
    "            for lr in layers_readout:\n",
    "                lr = select_layers_readout(l,lr)\n",
    "                args['num_layers'] = l\n",
    "                args['pooling_ratio'] = p\n",
    "                args['dist'] = s_m\n",
    "                args['layers_readout'] = lr\n",
    "                for fold, (train_idx, val_idx) in enumerate(kfold.split(np.arange(len(train_dataset)))):\n",
    "                    val_acc, val_loss = train_fold(fold, train_idx, val_idx)\n",
    "                    results.append((val_acc, val_loss))\n",
    "                avg_fold_acc,avg_fold_loss = np.array(results).mean(axis=0)\n",
    "                save_dict = [{'arguments':args,\n",
    "                             'average fold accuracy':avg_fold_acc,\n",
    "                             'average fold loss': avg_fold_loss}]\n",
    "                save_to_json(save_dict)\n",
    "\n",
    "                print(f\"Cross-validation results: {avg_fold_acc} / {avg_fold_loss}, with the args {args}\")\n",
    "\n"
   ]
  }
 ],
 "metadata": {
  "accelerator": "GPU",
  "colab": {
   "gpuType": "T4",
   "provenance": []
  },
  "kernelspec": {
   "display_name": "Python 3 (ipykernel)",
   "language": "python",
   "name": "python3"
  },
  "language_info": {
   "codemirror_mode": {
    "name": "ipython",
    "version": 2
   },
   "file_extension": ".py",
   "mimetype": "text/x-python",
   "name": "python",
   "nbconvert_exporter": "python",
   "pygments_lexer": "ipython2",
   "version": "2.7.6"
  }
 },
 "nbformat": 4,
 "nbformat_minor": 5
}
