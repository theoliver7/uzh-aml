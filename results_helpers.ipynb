{
 "cells": [
  {
   "metadata": {
    "ExecuteTime": {
     "end_time": "2024-05-17T13:44:54.087174Z",
     "start_time": "2024-05-17T13:44:54.079617Z"
    }
   },
   "cell_type": "code",
   "source": "import numpy as np",
   "id": "75dec962020d2418",
   "outputs": [],
   "execution_count": 56
  },
  {
   "metadata": {
    "ExecuteTime": {
     "end_time": "2024-05-17T13:44:54.216108Z",
     "start_time": "2024-05-17T13:44:54.191576Z"
    }
   },
   "cell_type": "code",
   "source": [
    "original = np.array([\n",
    "    (0.7981220657276995, 2.100486934185028), (0.7405660377358491, 2.1540175080299377),\n",
    "    (0.7547169811320755, 1.9195516854524612), (0.7688679245283019, 1.8819804787635803),\n",
    "    (0.7405660377358491, 2.135356366634369)])\n",
    "\n",
    "deeper3 = np.array([\n",
    "    (0.755868544600939, 2.065735012292862), (0.7405660377358491, 2.23724365234375),\n",
    "    (0.7688679245283019, 1.749930888414383), (0.7688679245283019, 2.021814465522766),\n",
    "    (0.7688679245283019, 1.981805831193924)\n",
    "])\n",
    "deeper4 = np.array([(0.7793427230046949, 1.9808537662029266), (0.7877358490566038, 1.9231189787387848),\n",
    "                    (0.7641509433962265, 1.8146329820156097), (0.7547169811320755, 1.8435611724853516),\n",
    "                    (0.75, 1.981976479291916)])\n",
    "deeper5 = np.array([(0.7746478873239436, 1.9050227403640747), (0.7311320754716981, 1.9969934225082397),\n",
    "                    (0.7735849056603774, 1.7527796626091003), (0.7641509433962265, 1.9739322066307068),\n",
    "                    (0.7358490566037735, 2.0881947576999664)])\n",
    "euclidean = np.array([(0.7699530516431925, 2.134678542613983), (0.7169811320754716, 2.0804452300071716),\n",
    "                      (0.7735849056603774, 1.7834844887256622), (0.7783018867924528, 1.792668491601944),\n",
    "                      (0.75, 2.0200718343257904)])\n",
    "\n",
    "readout_08 = np.array([(0.812206572769953, 1.8719376027584076), (0.7358490566037735, 2.1329938173294067),\n",
    "                       (0.7641509433962265, 1.7707235515117645), (0.7783018867924528, 1.7494373321533203),\n",
    "                       (0.754717, 2.041956)])\n",
    "\n",
    "readout_05 = np.array([(0.8075117370892019, 1.8756391108036041), (0.7311320754716981, 2.1788178980350494),\n",
    "                       (0.7783018867924528, 1.7638773024082184), (0.7735849056603774, 1.7464654743671417),\n",
    "                       (0.7641509433962265, 2.0342787504196167)])\n",
    "readout_02 = np.array([(0.7793427230046949, 2.0685616731643677), (0.7122641509433962, 2.16469806432724),\n",
    "                       (0.7735849056603774, 1.7240729182958603), (0.7452830188679245, 1.8839554190635681),\n",
    "                       (0.7405660377358491, 2.166223466396332)])\n",
    "readout_first = np.array([(0.7746478873239436, 2.079864025115967), (0.7594339622641509, 2.1804575324058533),\n",
    "                          (0.7688679245283019, 1.8524103909730911), (0.7688679245283019, 1.9128717184066772),\n",
    "                          (0.7358490566037735, 2.113154500722885)], )\n",
    "readout_last = np.array([(0.7605633802816901, 2.2322067618370056), (0.7311320754716981, 2.204373061656952),\n",
    "                         (0.7971698113207547, 1.7147117853164673), (0.7877358490566038, 1.7343156337738037),\n",
    "                         (0.7311320754716981, 2.106730669736862)])"
   ],
   "id": "5f3d2aaccc0a4457",
   "outputs": [],
   "execution_count": 57
  },
  {
   "metadata": {
    "ExecuteTime": {
     "end_time": "2024-05-17T13:44:54.347878Z",
     "start_time": "2024-05-17T13:44:54.328347Z"
    }
   },
   "cell_type": "code",
   "source": [
    "print(np.mean(original[:, 0]))\n",
    "print(np.mean(euclidean[:, 0]))\n",
    "print(np.mean(deeper3[:, 0]))\n",
    "print(np.mean(deeper4[:, 0]))\n",
    "print(np.mean(deeper5[:, 0]))\n",
    "print(np.mean(readout_08[:, 0]))\n",
    "print(np.mean(readout_05[:, 0]))\n",
    "print(np.mean(readout_02[:, 0]))\n",
    "print(np.mean(readout_first[:, 0]))\n",
    "print(np.mean(readout_last[:, 0]))"
   ],
   "id": "ff2468c276fb6846",
   "outputs": [
    {
     "name": "stdout",
     "output_type": "stream",
     "text": [
      "0.760567809371955\n",
      "0.7577641952342988\n",
      "0.7606076711843388\n",
      "0.7671892993179201\n",
      "0.7558729736912039\n",
      "0.7690450919124812\n",
      "0.7709363096819912\n",
      "0.7502081672424483\n",
      "0.7615333510496944\n",
      "0.761546638320489\n"
     ]
    }
   ],
   "execution_count": 58
  },
  {
   "metadata": {
    "ExecuteTime": {
     "end_time": "2024-05-17T13:44:54.567570Z",
     "start_time": "2024-05-17T13:44:54.549875Z"
    }
   },
   "cell_type": "code",
   "source": [
    "print(np.min(original[:, 0]))\n",
    "print(np.min(euclidean[:, 0]))\n",
    "print(np.min(deeper3[:, 0]))\n",
    "print(np.min(deeper4[:, 0]))\n",
    "print(np.min(deeper5[:, 0]))\n",
    "print(np.min(readout_08[:, 0]))\n",
    "print(np.min(readout_05[:, 0]))\n",
    "print(np.min(readout_02[:, 0]))\n",
    "print(np.min(readout_first[:, 0]))\n",
    "print(np.min(readout_last[:, 0]))"
   ],
   "id": "e82f2ede59e584ca",
   "outputs": [
    {
     "name": "stdout",
     "output_type": "stream",
     "text": [
      "0.7405660377358491\n",
      "0.7169811320754716\n",
      "0.7405660377358491\n",
      "0.75\n",
      "0.7311320754716981\n",
      "0.7358490566037735\n",
      "0.7311320754716981\n",
      "0.7122641509433962\n",
      "0.7358490566037735\n",
      "0.7311320754716981\n"
     ]
    }
   ],
   "execution_count": 59
  },
  {
   "metadata": {
    "ExecuteTime": {
     "end_time": "2024-05-17T13:44:54.632430Z",
     "start_time": "2024-05-17T13:44:54.613530Z"
    }
   },
   "cell_type": "code",
   "source": [
    "print(np.max(original[:, 0]))\n",
    "print(np.max(euclidean[:, 0]))\n",
    "print(np.max(deeper3[:, 0]))\n",
    "print(np.max(deeper4[:, 0]))\n",
    "print(np.max(deeper5[:, 0]))\n",
    "print(np.max(readout_08[:, 0]))\n",
    "print(np.max(readout_05[:, 0]))\n",
    "print(np.max(readout_02[:, 0]))\n",
    "print(np.max(readout_first[:, 0]))\n",
    "print(np.max(readout_last[:, 0]))"
   ],
   "id": "dad505475a2d2db8",
   "outputs": [
    {
     "name": "stdout",
     "output_type": "stream",
     "text": [
      "0.7981220657276995\n",
      "0.7783018867924528\n",
      "0.7688679245283019\n",
      "0.7877358490566038\n",
      "0.7746478873239436\n",
      "0.812206572769953\n",
      "0.8075117370892019\n",
      "0.7793427230046949\n",
      "0.7746478873239436\n",
      "0.7971698113207547\n"
     ]
    }
   ],
   "execution_count": 60
  },
  {
   "metadata": {
    "ExecuteTime": {
     "end_time": "2024-05-17T13:44:54.906231Z",
     "start_time": "2024-05-17T13:44:54.829417Z"
    }
   },
   "cell_type": "code",
   "source": [
    "import json\n",
    "import pandas as pd\n",
    "\n",
    "# Load the JSON data\n",
    "df = pd.read_json('cv_results.json')\n",
    "arguments = pd.json_normalize(df[\"arguments\"])\n",
    "df = pd.concat([df, arguments], axis=\"columns\")\n",
    "del df[\"arguments\"]\n",
    "df = df[[\"dist\", \"pooling_ratio\", \"layers_readout\", \"num_layers\", \"average fold accuracy\"]]\n",
    "df['dist'] = df['dist'].apply(lambda x: 0 if x == 'euc' else 1)\n",
    "df"
   ],
   "id": "7ddd661c0f2c3aac",
   "outputs": [
    {
     "data": {
      "text/plain": [
       "    dist  pooling_ratio layers_readout  num_layers  average fold accuracy\n",
       "0      1            0.2         [0, 1]           2               0.759660\n",
       "1      1            0.2            [0]           2               0.756834\n",
       "2      1            0.2            [1]           2               0.754943\n",
       "3      0            0.2         [0, 1]           2               0.766264\n",
       "4      0            0.2            [0]           2               0.754934\n",
       "5      0            0.2            [1]           2               0.748370\n",
       "6      1            0.5         [0, 1]           2               0.763425\n",
       "7      1            0.5            [0]           2               0.764359\n",
       "8      1            0.5            [1]           2               0.760568\n",
       "9      0            0.5         [0, 1]           2               0.764364\n",
       "10     0            0.5            [0]           2               0.764368\n",
       "11     0            0.5            [1]           2               0.758699\n",
       "12     1            0.8         [0, 1]           2               0.765276\n",
       "13     1            0.8            [0]           2               0.762481\n",
       "14     1            0.8            [1]           2               0.771902\n",
       "15     0            0.8         [0, 1]           2               0.770015\n",
       "16     0            0.8            [0]           2               0.756830\n",
       "17     0            0.8            [1]           2               0.775640\n",
       "18     1            0.2      [0, 1, 2]           3               0.755904\n",
       "19     1            0.2            [0]           3               0.755873\n",
       "20     1            0.2            [2]           3               0.746452\n",
       "21     0            0.2      [0, 1, 2]           3               0.752108\n",
       "22     0            0.2            [0]           3               0.761542\n",
       "23     0            0.2            [2]           3               0.736071\n",
       "24     1            0.5      [0, 1, 2]           3               0.751183\n",
       "25     0            0.8            [2]           3               0.729546\n",
       "26     0            0.8            [0]           3               0.772845\n",
       "27     0            0.8      [0, 1, 2]           3               0.722934\n",
       "28     1            0.8            [2]           3               0.748366"
      ],
      "text/html": [
       "<div>\n",
       "<style scoped>\n",
       "    .dataframe tbody tr th:only-of-type {\n",
       "        vertical-align: middle;\n",
       "    }\n",
       "\n",
       "    .dataframe tbody tr th {\n",
       "        vertical-align: top;\n",
       "    }\n",
       "\n",
       "    .dataframe thead th {\n",
       "        text-align: right;\n",
       "    }\n",
       "</style>\n",
       "<table border=\"1\" class=\"dataframe\">\n",
       "  <thead>\n",
       "    <tr style=\"text-align: right;\">\n",
       "      <th></th>\n",
       "      <th>dist</th>\n",
       "      <th>pooling_ratio</th>\n",
       "      <th>layers_readout</th>\n",
       "      <th>num_layers</th>\n",
       "      <th>average fold accuracy</th>\n",
       "    </tr>\n",
       "  </thead>\n",
       "  <tbody>\n",
       "    <tr>\n",
       "      <th>0</th>\n",
       "      <td>1</td>\n",
       "      <td>0.2</td>\n",
       "      <td>[0, 1]</td>\n",
       "      <td>2</td>\n",
       "      <td>0.759660</td>\n",
       "    </tr>\n",
       "    <tr>\n",
       "      <th>1</th>\n",
       "      <td>1</td>\n",
       "      <td>0.2</td>\n",
       "      <td>[0]</td>\n",
       "      <td>2</td>\n",
       "      <td>0.756834</td>\n",
       "    </tr>\n",
       "    <tr>\n",
       "      <th>2</th>\n",
       "      <td>1</td>\n",
       "      <td>0.2</td>\n",
       "      <td>[1]</td>\n",
       "      <td>2</td>\n",
       "      <td>0.754943</td>\n",
       "    </tr>\n",
       "    <tr>\n",
       "      <th>3</th>\n",
       "      <td>0</td>\n",
       "      <td>0.2</td>\n",
       "      <td>[0, 1]</td>\n",
       "      <td>2</td>\n",
       "      <td>0.766264</td>\n",
       "    </tr>\n",
       "    <tr>\n",
       "      <th>4</th>\n",
       "      <td>0</td>\n",
       "      <td>0.2</td>\n",
       "      <td>[0]</td>\n",
       "      <td>2</td>\n",
       "      <td>0.754934</td>\n",
       "    </tr>\n",
       "    <tr>\n",
       "      <th>5</th>\n",
       "      <td>0</td>\n",
       "      <td>0.2</td>\n",
       "      <td>[1]</td>\n",
       "      <td>2</td>\n",
       "      <td>0.748370</td>\n",
       "    </tr>\n",
       "    <tr>\n",
       "      <th>6</th>\n",
       "      <td>1</td>\n",
       "      <td>0.5</td>\n",
       "      <td>[0, 1]</td>\n",
       "      <td>2</td>\n",
       "      <td>0.763425</td>\n",
       "    </tr>\n",
       "    <tr>\n",
       "      <th>7</th>\n",
       "      <td>1</td>\n",
       "      <td>0.5</td>\n",
       "      <td>[0]</td>\n",
       "      <td>2</td>\n",
       "      <td>0.764359</td>\n",
       "    </tr>\n",
       "    <tr>\n",
       "      <th>8</th>\n",
       "      <td>1</td>\n",
       "      <td>0.5</td>\n",
       "      <td>[1]</td>\n",
       "      <td>2</td>\n",
       "      <td>0.760568</td>\n",
       "    </tr>\n",
       "    <tr>\n",
       "      <th>9</th>\n",
       "      <td>0</td>\n",
       "      <td>0.5</td>\n",
       "      <td>[0, 1]</td>\n",
       "      <td>2</td>\n",
       "      <td>0.764364</td>\n",
       "    </tr>\n",
       "    <tr>\n",
       "      <th>10</th>\n",
       "      <td>0</td>\n",
       "      <td>0.5</td>\n",
       "      <td>[0]</td>\n",
       "      <td>2</td>\n",
       "      <td>0.764368</td>\n",
       "    </tr>\n",
       "    <tr>\n",
       "      <th>11</th>\n",
       "      <td>0</td>\n",
       "      <td>0.5</td>\n",
       "      <td>[1]</td>\n",
       "      <td>2</td>\n",
       "      <td>0.758699</td>\n",
       "    </tr>\n",
       "    <tr>\n",
       "      <th>12</th>\n",
       "      <td>1</td>\n",
       "      <td>0.8</td>\n",
       "      <td>[0, 1]</td>\n",
       "      <td>2</td>\n",
       "      <td>0.765276</td>\n",
       "    </tr>\n",
       "    <tr>\n",
       "      <th>13</th>\n",
       "      <td>1</td>\n",
       "      <td>0.8</td>\n",
       "      <td>[0]</td>\n",
       "      <td>2</td>\n",
       "      <td>0.762481</td>\n",
       "    </tr>\n",
       "    <tr>\n",
       "      <th>14</th>\n",
       "      <td>1</td>\n",
       "      <td>0.8</td>\n",
       "      <td>[1]</td>\n",
       "      <td>2</td>\n",
       "      <td>0.771902</td>\n",
       "    </tr>\n",
       "    <tr>\n",
       "      <th>15</th>\n",
       "      <td>0</td>\n",
       "      <td>0.8</td>\n",
       "      <td>[0, 1]</td>\n",
       "      <td>2</td>\n",
       "      <td>0.770015</td>\n",
       "    </tr>\n",
       "    <tr>\n",
       "      <th>16</th>\n",
       "      <td>0</td>\n",
       "      <td>0.8</td>\n",
       "      <td>[0]</td>\n",
       "      <td>2</td>\n",
       "      <td>0.756830</td>\n",
       "    </tr>\n",
       "    <tr>\n",
       "      <th>17</th>\n",
       "      <td>0</td>\n",
       "      <td>0.8</td>\n",
       "      <td>[1]</td>\n",
       "      <td>2</td>\n",
       "      <td>0.775640</td>\n",
       "    </tr>\n",
       "    <tr>\n",
       "      <th>18</th>\n",
       "      <td>1</td>\n",
       "      <td>0.2</td>\n",
       "      <td>[0, 1, 2]</td>\n",
       "      <td>3</td>\n",
       "      <td>0.755904</td>\n",
       "    </tr>\n",
       "    <tr>\n",
       "      <th>19</th>\n",
       "      <td>1</td>\n",
       "      <td>0.2</td>\n",
       "      <td>[0]</td>\n",
       "      <td>3</td>\n",
       "      <td>0.755873</td>\n",
       "    </tr>\n",
       "    <tr>\n",
       "      <th>20</th>\n",
       "      <td>1</td>\n",
       "      <td>0.2</td>\n",
       "      <td>[2]</td>\n",
       "      <td>3</td>\n",
       "      <td>0.746452</td>\n",
       "    </tr>\n",
       "    <tr>\n",
       "      <th>21</th>\n",
       "      <td>0</td>\n",
       "      <td>0.2</td>\n",
       "      <td>[0, 1, 2]</td>\n",
       "      <td>3</td>\n",
       "      <td>0.752108</td>\n",
       "    </tr>\n",
       "    <tr>\n",
       "      <th>22</th>\n",
       "      <td>0</td>\n",
       "      <td>0.2</td>\n",
       "      <td>[0]</td>\n",
       "      <td>3</td>\n",
       "      <td>0.761542</td>\n",
       "    </tr>\n",
       "    <tr>\n",
       "      <th>23</th>\n",
       "      <td>0</td>\n",
       "      <td>0.2</td>\n",
       "      <td>[2]</td>\n",
       "      <td>3</td>\n",
       "      <td>0.736071</td>\n",
       "    </tr>\n",
       "    <tr>\n",
       "      <th>24</th>\n",
       "      <td>1</td>\n",
       "      <td>0.5</td>\n",
       "      <td>[0, 1, 2]</td>\n",
       "      <td>3</td>\n",
       "      <td>0.751183</td>\n",
       "    </tr>\n",
       "    <tr>\n",
       "      <th>25</th>\n",
       "      <td>0</td>\n",
       "      <td>0.8</td>\n",
       "      <td>[2]</td>\n",
       "      <td>3</td>\n",
       "      <td>0.729546</td>\n",
       "    </tr>\n",
       "    <tr>\n",
       "      <th>26</th>\n",
       "      <td>0</td>\n",
       "      <td>0.8</td>\n",
       "      <td>[0]</td>\n",
       "      <td>3</td>\n",
       "      <td>0.772845</td>\n",
       "    </tr>\n",
       "    <tr>\n",
       "      <th>27</th>\n",
       "      <td>0</td>\n",
       "      <td>0.8</td>\n",
       "      <td>[0, 1, 2]</td>\n",
       "      <td>3</td>\n",
       "      <td>0.722934</td>\n",
       "    </tr>\n",
       "    <tr>\n",
       "      <th>28</th>\n",
       "      <td>1</td>\n",
       "      <td>0.8</td>\n",
       "      <td>[2]</td>\n",
       "      <td>3</td>\n",
       "      <td>0.748366</td>\n",
       "    </tr>\n",
       "  </tbody>\n",
       "</table>\n",
       "</div>"
      ]
     },
     "execution_count": 61,
     "metadata": {},
     "output_type": "execute_result"
    }
   ],
   "execution_count": 61
  },
  {
   "metadata": {
    "ExecuteTime": {
     "end_time": "2024-05-17T13:44:55.197141Z",
     "start_time": "2024-05-17T13:44:55.040637Z"
    }
   },
   "cell_type": "code",
   "source": [
    "import plotly.express as px\n",
    "df['layers_readout'] = df['layers_readout'].apply(lambda x: str(x))\n",
    "category_mapping = {category: idx for idx, category in enumerate(df['layers_readout'].unique())}\n",
    "df['distance_metric_encoded'] = df['layers_readout'].map(category_mapping)\n",
    "df = df[[\"dist\", \"pooling_ratio\", \"layers_readout\", \"distance_metric_encoded\",\"num_layers\", \"average fold accuracy\"]]\n",
    "\n",
    "# Reverse map for visualization\n",
    "reverse_mapping = {v: k for k, v in category_mapping.items()}\n",
    "\n",
    "fig = px.parallel_coordinates(df,\n",
    "                              color=\"average fold accuracy\",\n",
    "                              labels={\n",
    "                                  \"pooling_ratio\": \"Pooling Ratio\",\n",
    "                                  \"dist\": \"Distance\",\n",
    "                                  \"num_layers\": \"Num Layers\",\n",
    "                                  \"distance_metric_encoded\": \"Layers Readout\",\n",
    "                                  \"average fold accuracy\": \"Avg Validation Accuracy\"},\n",
    "                              # color_continuous_scale=px.colors.diverging.Earth,\n",
    "                              color_continuous_midpoint=0.75, template=\"plotly_white\")\n",
    "fig.update_traces(\n",
    "    dimensions=list([dict(\n",
    "        tickvals=list([0, 1]),\n",
    "        ticktext=list([\"Euclidean\", \"Manhatten\"]),\n",
    "    ),\n",
    "        dict(\n",
    "        )\n",
    "        ,\n",
    "        dict(\n",
    "               tickvals=list(reverse_mapping.keys()),\n",
    "            ticktext=list(reverse_mapping.values())\n",
    "        )\n",
    "        ,\n",
    "        dict(\n",
    "           tickvals=list([2,3])\n",
    "        )\n",
    "        ,\n",
    "        dict(\n",
    "          \n",
    "        )\n",
    "    ])\n",
    "\n",
    ")\n",
    "fig.show()"
   ],
   "id": "f44a7cd0c05c2b8",
   "outputs": [
    {
     "data": {
      "application/vnd.plotly.v1+json": {
       "data": [
        {
         "dimensions": [
          {
           "label": "Distance",
           "values": [
            1,
            1,
            1,
            0,
            0,
            0,
            1,
            1,
            1,
            0,
            0,
            0,
            1,
            1,
            1,
            0,
            0,
            0,
            1,
            1,
            1,
            0,
            0,
            0,
            1,
            0,
            0,
            0,
            1
           ],
           "ticktext": [
            "Euclidean",
            "Manhatten"
           ],
           "tickvals": [
            0,
            1
           ]
          },
          {
           "label": "Pooling Ratio",
           "values": [
            0.2,
            0.2,
            0.2,
            0.2,
            0.2,
            0.2,
            0.5,
            0.5,
            0.5,
            0.5,
            0.5,
            0.5,
            0.8,
            0.8,
            0.8,
            0.8,
            0.8,
            0.8,
            0.2,
            0.2,
            0.2,
            0.2,
            0.2,
            0.2,
            0.5,
            0.8,
            0.8,
            0.8,
            0.8
           ]
          },
          {
           "label": "Layers Readout",
           "values": [
            0,
            1,
            2,
            0,
            1,
            2,
            0,
            1,
            2,
            0,
            1,
            2,
            0,
            1,
            2,
            0,
            1,
            2,
            3,
            1,
            4,
            3,
            1,
            4,
            3,
            4,
            1,
            3,
            4
           ],
           "ticktext": [
            "[0, 1]",
            "[0]",
            "[1]",
            "[0, 1, 2]",
            "[2]"
           ],
           "tickvals": [
            0,
            1,
            2,
            3,
            4
           ]
          },
          {
           "label": "Num Layers",
           "values": [
            2,
            2,
            2,
            2,
            2,
            2,
            2,
            2,
            2,
            2,
            2,
            2,
            2,
            2,
            2,
            2,
            2,
            2,
            3,
            3,
            3,
            3,
            3,
            3,
            3,
            3,
            3,
            3,
            3
           ],
           "tickvals": [
            2,
            3
           ]
          },
          {
           "label": "Avg Validation Accuracy",
           "values": [
            0.7596598458676581,
            0.7568340862786781,
            0.754942864735583,
            0.766263619452564,
            0.754934006555053,
            0.748370094782531,
            0.7634245725927891,
            0.764359110638674,
            0.760567809371954,
            0.7643635397289391,
            0.7643679688192041,
            0.7586987332801841,
            0.7652759323235001,
            0.762481176366374,
            0.7719018513597301,
            0.7700150589069,
            0.7568296571884131,
            0.775640003543272,
            0.755903977323057,
            0.7558729736912031,
            0.746452298697847,
            0.752108246966073,
            0.7615422092302241,
            0.736070511117016,
            0.7511825671007171,
            0.729546461156878,
            0.772845247586145,
            0.722933829391443,
            0.748365665692266
           ]
          }
         ],
         "domain": {
          "x": [
           0.0,
           1.0
          ],
          "y": [
           0.0,
           1.0
          ]
         },
         "line": {
          "color": [
           0.7596598458676581,
           0.7568340862786781,
           0.754942864735583,
           0.766263619452564,
           0.754934006555053,
           0.748370094782531,
           0.7634245725927891,
           0.764359110638674,
           0.760567809371954,
           0.7643635397289391,
           0.7643679688192041,
           0.7586987332801841,
           0.7652759323235001,
           0.762481176366374,
           0.7719018513597301,
           0.7700150589069,
           0.7568296571884131,
           0.775640003543272,
           0.755903977323057,
           0.7558729736912031,
           0.746452298697847,
           0.752108246966073,
           0.7615422092302241,
           0.736070511117016,
           0.7511825671007171,
           0.729546461156878,
           0.772845247586145,
           0.722933829391443,
           0.748365665692266
          ],
          "coloraxis": "coloraxis"
         },
         "name": "",
         "type": "parcoords"
        }
       ],
       "layout": {
        "template": {
         "data": {
          "barpolar": [
           {
            "marker": {
             "line": {
              "color": "white",
              "width": 0.5
             },
             "pattern": {
              "fillmode": "overlay",
              "size": 10,
              "solidity": 0.2
             }
            },
            "type": "barpolar"
           }
          ],
          "bar": [
           {
            "error_x": {
             "color": "#2a3f5f"
            },
            "error_y": {
             "color": "#2a3f5f"
            },
            "marker": {
             "line": {
              "color": "white",
              "width": 0.5
             },
             "pattern": {
              "fillmode": "overlay",
              "size": 10,
              "solidity": 0.2
             }
            },
            "type": "bar"
           }
          ],
          "carpet": [
           {
            "aaxis": {
             "endlinecolor": "#2a3f5f",
             "gridcolor": "#C8D4E3",
             "linecolor": "#C8D4E3",
             "minorgridcolor": "#C8D4E3",
             "startlinecolor": "#2a3f5f"
            },
            "baxis": {
             "endlinecolor": "#2a3f5f",
             "gridcolor": "#C8D4E3",
             "linecolor": "#C8D4E3",
             "minorgridcolor": "#C8D4E3",
             "startlinecolor": "#2a3f5f"
            },
            "type": "carpet"
           }
          ],
          "choropleth": [
           {
            "colorbar": {
             "outlinewidth": 0,
             "ticks": ""
            },
            "type": "choropleth"
           }
          ],
          "contourcarpet": [
           {
            "colorbar": {
             "outlinewidth": 0,
             "ticks": ""
            },
            "type": "contourcarpet"
           }
          ],
          "contour": [
           {
            "colorbar": {
             "outlinewidth": 0,
             "ticks": ""
            },
            "colorscale": [
             [
              0.0,
              "#0d0887"
             ],
             [
              0.1111111111111111,
              "#46039f"
             ],
             [
              0.2222222222222222,
              "#7201a8"
             ],
             [
              0.3333333333333333,
              "#9c179e"
             ],
             [
              0.4444444444444444,
              "#bd3786"
             ],
             [
              0.5555555555555556,
              "#d8576b"
             ],
             [
              0.6666666666666666,
              "#ed7953"
             ],
             [
              0.7777777777777778,
              "#fb9f3a"
             ],
             [
              0.8888888888888888,
              "#fdca26"
             ],
             [
              1.0,
              "#f0f921"
             ]
            ],
            "type": "contour"
           }
          ],
          "heatmapgl": [
           {
            "colorbar": {
             "outlinewidth": 0,
             "ticks": ""
            },
            "colorscale": [
             [
              0.0,
              "#0d0887"
             ],
             [
              0.1111111111111111,
              "#46039f"
             ],
             [
              0.2222222222222222,
              "#7201a8"
             ],
             [
              0.3333333333333333,
              "#9c179e"
             ],
             [
              0.4444444444444444,
              "#bd3786"
             ],
             [
              0.5555555555555556,
              "#d8576b"
             ],
             [
              0.6666666666666666,
              "#ed7953"
             ],
             [
              0.7777777777777778,
              "#fb9f3a"
             ],
             [
              0.8888888888888888,
              "#fdca26"
             ],
             [
              1.0,
              "#f0f921"
             ]
            ],
            "type": "heatmapgl"
           }
          ],
          "heatmap": [
           {
            "colorbar": {
             "outlinewidth": 0,
             "ticks": ""
            },
            "colorscale": [
             [
              0.0,
              "#0d0887"
             ],
             [
              0.1111111111111111,
              "#46039f"
             ],
             [
              0.2222222222222222,
              "#7201a8"
             ],
             [
              0.3333333333333333,
              "#9c179e"
             ],
             [
              0.4444444444444444,
              "#bd3786"
             ],
             [
              0.5555555555555556,
              "#d8576b"
             ],
             [
              0.6666666666666666,
              "#ed7953"
             ],
             [
              0.7777777777777778,
              "#fb9f3a"
             ],
             [
              0.8888888888888888,
              "#fdca26"
             ],
             [
              1.0,
              "#f0f921"
             ]
            ],
            "type": "heatmap"
           }
          ],
          "histogram2dcontour": [
           {
            "colorbar": {
             "outlinewidth": 0,
             "ticks": ""
            },
            "colorscale": [
             [
              0.0,
              "#0d0887"
             ],
             [
              0.1111111111111111,
              "#46039f"
             ],
             [
              0.2222222222222222,
              "#7201a8"
             ],
             [
              0.3333333333333333,
              "#9c179e"
             ],
             [
              0.4444444444444444,
              "#bd3786"
             ],
             [
              0.5555555555555556,
              "#d8576b"
             ],
             [
              0.6666666666666666,
              "#ed7953"
             ],
             [
              0.7777777777777778,
              "#fb9f3a"
             ],
             [
              0.8888888888888888,
              "#fdca26"
             ],
             [
              1.0,
              "#f0f921"
             ]
            ],
            "type": "histogram2dcontour"
           }
          ],
          "histogram2d": [
           {
            "colorbar": {
             "outlinewidth": 0,
             "ticks": ""
            },
            "colorscale": [
             [
              0.0,
              "#0d0887"
             ],
             [
              0.1111111111111111,
              "#46039f"
             ],
             [
              0.2222222222222222,
              "#7201a8"
             ],
             [
              0.3333333333333333,
              "#9c179e"
             ],
             [
              0.4444444444444444,
              "#bd3786"
             ],
             [
              0.5555555555555556,
              "#d8576b"
             ],
             [
              0.6666666666666666,
              "#ed7953"
             ],
             [
              0.7777777777777778,
              "#fb9f3a"
             ],
             [
              0.8888888888888888,
              "#fdca26"
             ],
             [
              1.0,
              "#f0f921"
             ]
            ],
            "type": "histogram2d"
           }
          ],
          "histogram": [
           {
            "marker": {
             "pattern": {
              "fillmode": "overlay",
              "size": 10,
              "solidity": 0.2
             }
            },
            "type": "histogram"
           }
          ],
          "mesh3d": [
           {
            "colorbar": {
             "outlinewidth": 0,
             "ticks": ""
            },
            "type": "mesh3d"
           }
          ],
          "parcoords": [
           {
            "line": {
             "colorbar": {
              "outlinewidth": 0,
              "ticks": ""
             }
            },
            "type": "parcoords"
           }
          ],
          "pie": [
           {
            "automargin": true,
            "type": "pie"
           }
          ],
          "scatter3d": [
           {
            "line": {
             "colorbar": {
              "outlinewidth": 0,
              "ticks": ""
             }
            },
            "marker": {
             "colorbar": {
              "outlinewidth": 0,
              "ticks": ""
             }
            },
            "type": "scatter3d"
           }
          ],
          "scattercarpet": [
           {
            "marker": {
             "colorbar": {
              "outlinewidth": 0,
              "ticks": ""
             }
            },
            "type": "scattercarpet"
           }
          ],
          "scattergeo": [
           {
            "marker": {
             "colorbar": {
              "outlinewidth": 0,
              "ticks": ""
             }
            },
            "type": "scattergeo"
           }
          ],
          "scattergl": [
           {
            "marker": {
             "colorbar": {
              "outlinewidth": 0,
              "ticks": ""
             }
            },
            "type": "scattergl"
           }
          ],
          "scattermapbox": [
           {
            "marker": {
             "colorbar": {
              "outlinewidth": 0,
              "ticks": ""
             }
            },
            "type": "scattermapbox"
           }
          ],
          "scatterpolargl": [
           {
            "marker": {
             "colorbar": {
              "outlinewidth": 0,
              "ticks": ""
             }
            },
            "type": "scatterpolargl"
           }
          ],
          "scatterpolar": [
           {
            "marker": {
             "colorbar": {
              "outlinewidth": 0,
              "ticks": ""
             }
            },
            "type": "scatterpolar"
           }
          ],
          "scatter": [
           {
            "fillpattern": {
             "fillmode": "overlay",
             "size": 10,
             "solidity": 0.2
            },
            "type": "scatter"
           }
          ],
          "scatterternary": [
           {
            "marker": {
             "colorbar": {
              "outlinewidth": 0,
              "ticks": ""
             }
            },
            "type": "scatterternary"
           }
          ],
          "surface": [
           {
            "colorbar": {
             "outlinewidth": 0,
             "ticks": ""
            },
            "colorscale": [
             [
              0.0,
              "#0d0887"
             ],
             [
              0.1111111111111111,
              "#46039f"
             ],
             [
              0.2222222222222222,
              "#7201a8"
             ],
             [
              0.3333333333333333,
              "#9c179e"
             ],
             [
              0.4444444444444444,
              "#bd3786"
             ],
             [
              0.5555555555555556,
              "#d8576b"
             ],
             [
              0.6666666666666666,
              "#ed7953"
             ],
             [
              0.7777777777777778,
              "#fb9f3a"
             ],
             [
              0.8888888888888888,
              "#fdca26"
             ],
             [
              1.0,
              "#f0f921"
             ]
            ],
            "type": "surface"
           }
          ],
          "table": [
           {
            "cells": {
             "fill": {
              "color": "#EBF0F8"
             },
             "line": {
              "color": "white"
             }
            },
            "header": {
             "fill": {
              "color": "#C8D4E3"
             },
             "line": {
              "color": "white"
             }
            },
            "type": "table"
           }
          ]
         },
         "layout": {
          "annotationdefaults": {
           "arrowcolor": "#2a3f5f",
           "arrowhead": 0,
           "arrowwidth": 1
          },
          "autotypenumbers": "strict",
          "coloraxis": {
           "colorbar": {
            "outlinewidth": 0,
            "ticks": ""
           }
          },
          "colorscale": {
           "diverging": [
            [
             0,
             "#8e0152"
            ],
            [
             0.1,
             "#c51b7d"
            ],
            [
             0.2,
             "#de77ae"
            ],
            [
             0.3,
             "#f1b6da"
            ],
            [
             0.4,
             "#fde0ef"
            ],
            [
             0.5,
             "#f7f7f7"
            ],
            [
             0.6,
             "#e6f5d0"
            ],
            [
             0.7,
             "#b8e186"
            ],
            [
             0.8,
             "#7fbc41"
            ],
            [
             0.9,
             "#4d9221"
            ],
            [
             1,
             "#276419"
            ]
           ],
           "sequential": [
            [
             0.0,
             "#0d0887"
            ],
            [
             0.1111111111111111,
             "#46039f"
            ],
            [
             0.2222222222222222,
             "#7201a8"
            ],
            [
             0.3333333333333333,
             "#9c179e"
            ],
            [
             0.4444444444444444,
             "#bd3786"
            ],
            [
             0.5555555555555556,
             "#d8576b"
            ],
            [
             0.6666666666666666,
             "#ed7953"
            ],
            [
             0.7777777777777778,
             "#fb9f3a"
            ],
            [
             0.8888888888888888,
             "#fdca26"
            ],
            [
             1.0,
             "#f0f921"
            ]
           ],
           "sequentialminus": [
            [
             0.0,
             "#0d0887"
            ],
            [
             0.1111111111111111,
             "#46039f"
            ],
            [
             0.2222222222222222,
             "#7201a8"
            ],
            [
             0.3333333333333333,
             "#9c179e"
            ],
            [
             0.4444444444444444,
             "#bd3786"
            ],
            [
             0.5555555555555556,
             "#d8576b"
            ],
            [
             0.6666666666666666,
             "#ed7953"
            ],
            [
             0.7777777777777778,
             "#fb9f3a"
            ],
            [
             0.8888888888888888,
             "#fdca26"
            ],
            [
             1.0,
             "#f0f921"
            ]
           ]
          },
          "colorway": [
           "#636efa",
           "#EF553B",
           "#00cc96",
           "#ab63fa",
           "#FFA15A",
           "#19d3f3",
           "#FF6692",
           "#B6E880",
           "#FF97FF",
           "#FECB52"
          ],
          "font": {
           "color": "#2a3f5f"
          },
          "geo": {
           "bgcolor": "white",
           "lakecolor": "white",
           "landcolor": "white",
           "showlakes": true,
           "showland": true,
           "subunitcolor": "#C8D4E3"
          },
          "hoverlabel": {
           "align": "left"
          },
          "hovermode": "closest",
          "mapbox": {
           "style": "light"
          },
          "paper_bgcolor": "white",
          "plot_bgcolor": "white",
          "polar": {
           "angularaxis": {
            "gridcolor": "#EBF0F8",
            "linecolor": "#EBF0F8",
            "ticks": ""
           },
           "bgcolor": "white",
           "radialaxis": {
            "gridcolor": "#EBF0F8",
            "linecolor": "#EBF0F8",
            "ticks": ""
           }
          },
          "scene": {
           "xaxis": {
            "backgroundcolor": "white",
            "gridcolor": "#DFE8F3",
            "gridwidth": 2,
            "linecolor": "#EBF0F8",
            "showbackground": true,
            "ticks": "",
            "zerolinecolor": "#EBF0F8"
           },
           "yaxis": {
            "backgroundcolor": "white",
            "gridcolor": "#DFE8F3",
            "gridwidth": 2,
            "linecolor": "#EBF0F8",
            "showbackground": true,
            "ticks": "",
            "zerolinecolor": "#EBF0F8"
           },
           "zaxis": {
            "backgroundcolor": "white",
            "gridcolor": "#DFE8F3",
            "gridwidth": 2,
            "linecolor": "#EBF0F8",
            "showbackground": true,
            "ticks": "",
            "zerolinecolor": "#EBF0F8"
           }
          },
          "shapedefaults": {
           "line": {
            "color": "#2a3f5f"
           }
          },
          "ternary": {
           "aaxis": {
            "gridcolor": "#DFE8F3",
            "linecolor": "#A2B1C6",
            "ticks": ""
           },
           "baxis": {
            "gridcolor": "#DFE8F3",
            "linecolor": "#A2B1C6",
            "ticks": ""
           },
           "bgcolor": "white",
           "caxis": {
            "gridcolor": "#DFE8F3",
            "linecolor": "#A2B1C6",
            "ticks": ""
           }
          },
          "title": {
           "x": 0.05
          },
          "xaxis": {
           "automargin": true,
           "gridcolor": "#EBF0F8",
           "linecolor": "#EBF0F8",
           "ticks": "",
           "title": {
            "standoff": 15
           },
           "zerolinecolor": "#EBF0F8",
           "zerolinewidth": 2
          },
          "yaxis": {
           "automargin": true,
           "gridcolor": "#EBF0F8",
           "linecolor": "#EBF0F8",
           "ticks": "",
           "title": {
            "standoff": 15
           },
           "zerolinecolor": "#EBF0F8",
           "zerolinewidth": 2
          }
         }
        },
        "coloraxis": {
         "colorbar": {
          "title": {
           "text": "Avg Validation Accuracy"
          }
         },
         "colorscale": [
          [
           0.0,
           "#0d0887"
          ],
          [
           0.1111111111111111,
           "#46039f"
          ],
          [
           0.2222222222222222,
           "#7201a8"
          ],
          [
           0.3333333333333333,
           "#9c179e"
          ],
          [
           0.4444444444444444,
           "#bd3786"
          ],
          [
           0.5555555555555556,
           "#d8576b"
          ],
          [
           0.6666666666666666,
           "#ed7953"
          ],
          [
           0.7777777777777778,
           "#fb9f3a"
          ],
          [
           0.8888888888888888,
           "#fdca26"
          ],
          [
           1.0,
           "#f0f921"
          ]
         ],
         "cmid": 0.75
        },
        "legend": {
         "tracegroupgap": 0
        },
        "margin": {
         "t": 60
        }
       },
       "config": {
        "plotlyServerURL": "https://plot.ly"
       }
      },
      "text/html": [
       "<div>                            <div id=\"552cf12b-3bd2-474f-aa50-03c295744c0a\" class=\"plotly-graph-div\" style=\"height:525px; width:100%;\"></div>            <script type=\"text/javascript\">                require([\"plotly\"], function(Plotly) {                    window.PLOTLYENV=window.PLOTLYENV || {};                                    if (document.getElementById(\"552cf12b-3bd2-474f-aa50-03c295744c0a\")) {                    Plotly.newPlot(                        \"552cf12b-3bd2-474f-aa50-03c295744c0a\",                        [{\"dimensions\":[{\"label\":\"Distance\",\"values\":[1,1,1,0,0,0,1,1,1,0,0,0,1,1,1,0,0,0,1,1,1,0,0,0,1,0,0,0,1],\"ticktext\":[\"Euclidean\",\"Manhatten\"],\"tickvals\":[0,1]},{\"label\":\"Pooling Ratio\",\"values\":[0.2,0.2,0.2,0.2,0.2,0.2,0.5,0.5,0.5,0.5,0.5,0.5,0.8,0.8,0.8,0.8,0.8,0.8,0.2,0.2,0.2,0.2,0.2,0.2,0.5,0.8,0.8,0.8,0.8]},{\"label\":\"Layers Readout\",\"values\":[0,1,2,0,1,2,0,1,2,0,1,2,0,1,2,0,1,2,3,1,4,3,1,4,3,4,1,3,4],\"ticktext\":[\"[0, 1]\",\"[0]\",\"[1]\",\"[0, 1, 2]\",\"[2]\"],\"tickvals\":[0,1,2,3,4]},{\"label\":\"Num Layers\",\"values\":[2,2,2,2,2,2,2,2,2,2,2,2,2,2,2,2,2,2,3,3,3,3,3,3,3,3,3,3,3],\"tickvals\":[2,3]},{\"label\":\"Avg Validation Accuracy\",\"values\":[0.7596598458676581,0.7568340862786781,0.754942864735583,0.766263619452564,0.754934006555053,0.748370094782531,0.7634245725927891,0.764359110638674,0.760567809371954,0.7643635397289391,0.7643679688192041,0.7586987332801841,0.7652759323235001,0.762481176366374,0.7719018513597301,0.7700150589069,0.7568296571884131,0.775640003543272,0.755903977323057,0.7558729736912031,0.746452298697847,0.752108246966073,0.7615422092302241,0.736070511117016,0.7511825671007171,0.729546461156878,0.772845247586145,0.722933829391443,0.748365665692266]}],\"domain\":{\"x\":[0.0,1.0],\"y\":[0.0,1.0]},\"line\":{\"color\":[0.7596598458676581,0.7568340862786781,0.754942864735583,0.766263619452564,0.754934006555053,0.748370094782531,0.7634245725927891,0.764359110638674,0.760567809371954,0.7643635397289391,0.7643679688192041,0.7586987332801841,0.7652759323235001,0.762481176366374,0.7719018513597301,0.7700150589069,0.7568296571884131,0.775640003543272,0.755903977323057,0.7558729736912031,0.746452298697847,0.752108246966073,0.7615422092302241,0.736070511117016,0.7511825671007171,0.729546461156878,0.772845247586145,0.722933829391443,0.748365665692266],\"coloraxis\":\"coloraxis\"},\"name\":\"\",\"type\":\"parcoords\"}],                        {\"template\":{\"data\":{\"barpolar\":[{\"marker\":{\"line\":{\"color\":\"white\",\"width\":0.5},\"pattern\":{\"fillmode\":\"overlay\",\"size\":10,\"solidity\":0.2}},\"type\":\"barpolar\"}],\"bar\":[{\"error_x\":{\"color\":\"#2a3f5f\"},\"error_y\":{\"color\":\"#2a3f5f\"},\"marker\":{\"line\":{\"color\":\"white\",\"width\":0.5},\"pattern\":{\"fillmode\":\"overlay\",\"size\":10,\"solidity\":0.2}},\"type\":\"bar\"}],\"carpet\":[{\"aaxis\":{\"endlinecolor\":\"#2a3f5f\",\"gridcolor\":\"#C8D4E3\",\"linecolor\":\"#C8D4E3\",\"minorgridcolor\":\"#C8D4E3\",\"startlinecolor\":\"#2a3f5f\"},\"baxis\":{\"endlinecolor\":\"#2a3f5f\",\"gridcolor\":\"#C8D4E3\",\"linecolor\":\"#C8D4E3\",\"minorgridcolor\":\"#C8D4E3\",\"startlinecolor\":\"#2a3f5f\"},\"type\":\"carpet\"}],\"choropleth\":[{\"colorbar\":{\"outlinewidth\":0,\"ticks\":\"\"},\"type\":\"choropleth\"}],\"contourcarpet\":[{\"colorbar\":{\"outlinewidth\":0,\"ticks\":\"\"},\"type\":\"contourcarpet\"}],\"contour\":[{\"colorbar\":{\"outlinewidth\":0,\"ticks\":\"\"},\"colorscale\":[[0.0,\"#0d0887\"],[0.1111111111111111,\"#46039f\"],[0.2222222222222222,\"#7201a8\"],[0.3333333333333333,\"#9c179e\"],[0.4444444444444444,\"#bd3786\"],[0.5555555555555556,\"#d8576b\"],[0.6666666666666666,\"#ed7953\"],[0.7777777777777778,\"#fb9f3a\"],[0.8888888888888888,\"#fdca26\"],[1.0,\"#f0f921\"]],\"type\":\"contour\"}],\"heatmapgl\":[{\"colorbar\":{\"outlinewidth\":0,\"ticks\":\"\"},\"colorscale\":[[0.0,\"#0d0887\"],[0.1111111111111111,\"#46039f\"],[0.2222222222222222,\"#7201a8\"],[0.3333333333333333,\"#9c179e\"],[0.4444444444444444,\"#bd3786\"],[0.5555555555555556,\"#d8576b\"],[0.6666666666666666,\"#ed7953\"],[0.7777777777777778,\"#fb9f3a\"],[0.8888888888888888,\"#fdca26\"],[1.0,\"#f0f921\"]],\"type\":\"heatmapgl\"}],\"heatmap\":[{\"colorbar\":{\"outlinewidth\":0,\"ticks\":\"\"},\"colorscale\":[[0.0,\"#0d0887\"],[0.1111111111111111,\"#46039f\"],[0.2222222222222222,\"#7201a8\"],[0.3333333333333333,\"#9c179e\"],[0.4444444444444444,\"#bd3786\"],[0.5555555555555556,\"#d8576b\"],[0.6666666666666666,\"#ed7953\"],[0.7777777777777778,\"#fb9f3a\"],[0.8888888888888888,\"#fdca26\"],[1.0,\"#f0f921\"]],\"type\":\"heatmap\"}],\"histogram2dcontour\":[{\"colorbar\":{\"outlinewidth\":0,\"ticks\":\"\"},\"colorscale\":[[0.0,\"#0d0887\"],[0.1111111111111111,\"#46039f\"],[0.2222222222222222,\"#7201a8\"],[0.3333333333333333,\"#9c179e\"],[0.4444444444444444,\"#bd3786\"],[0.5555555555555556,\"#d8576b\"],[0.6666666666666666,\"#ed7953\"],[0.7777777777777778,\"#fb9f3a\"],[0.8888888888888888,\"#fdca26\"],[1.0,\"#f0f921\"]],\"type\":\"histogram2dcontour\"}],\"histogram2d\":[{\"colorbar\":{\"outlinewidth\":0,\"ticks\":\"\"},\"colorscale\":[[0.0,\"#0d0887\"],[0.1111111111111111,\"#46039f\"],[0.2222222222222222,\"#7201a8\"],[0.3333333333333333,\"#9c179e\"],[0.4444444444444444,\"#bd3786\"],[0.5555555555555556,\"#d8576b\"],[0.6666666666666666,\"#ed7953\"],[0.7777777777777778,\"#fb9f3a\"],[0.8888888888888888,\"#fdca26\"],[1.0,\"#f0f921\"]],\"type\":\"histogram2d\"}],\"histogram\":[{\"marker\":{\"pattern\":{\"fillmode\":\"overlay\",\"size\":10,\"solidity\":0.2}},\"type\":\"histogram\"}],\"mesh3d\":[{\"colorbar\":{\"outlinewidth\":0,\"ticks\":\"\"},\"type\":\"mesh3d\"}],\"parcoords\":[{\"line\":{\"colorbar\":{\"outlinewidth\":0,\"ticks\":\"\"}},\"type\":\"parcoords\"}],\"pie\":[{\"automargin\":true,\"type\":\"pie\"}],\"scatter3d\":[{\"line\":{\"colorbar\":{\"outlinewidth\":0,\"ticks\":\"\"}},\"marker\":{\"colorbar\":{\"outlinewidth\":0,\"ticks\":\"\"}},\"type\":\"scatter3d\"}],\"scattercarpet\":[{\"marker\":{\"colorbar\":{\"outlinewidth\":0,\"ticks\":\"\"}},\"type\":\"scattercarpet\"}],\"scattergeo\":[{\"marker\":{\"colorbar\":{\"outlinewidth\":0,\"ticks\":\"\"}},\"type\":\"scattergeo\"}],\"scattergl\":[{\"marker\":{\"colorbar\":{\"outlinewidth\":0,\"ticks\":\"\"}},\"type\":\"scattergl\"}],\"scattermapbox\":[{\"marker\":{\"colorbar\":{\"outlinewidth\":0,\"ticks\":\"\"}},\"type\":\"scattermapbox\"}],\"scatterpolargl\":[{\"marker\":{\"colorbar\":{\"outlinewidth\":0,\"ticks\":\"\"}},\"type\":\"scatterpolargl\"}],\"scatterpolar\":[{\"marker\":{\"colorbar\":{\"outlinewidth\":0,\"ticks\":\"\"}},\"type\":\"scatterpolar\"}],\"scatter\":[{\"fillpattern\":{\"fillmode\":\"overlay\",\"size\":10,\"solidity\":0.2},\"type\":\"scatter\"}],\"scatterternary\":[{\"marker\":{\"colorbar\":{\"outlinewidth\":0,\"ticks\":\"\"}},\"type\":\"scatterternary\"}],\"surface\":[{\"colorbar\":{\"outlinewidth\":0,\"ticks\":\"\"},\"colorscale\":[[0.0,\"#0d0887\"],[0.1111111111111111,\"#46039f\"],[0.2222222222222222,\"#7201a8\"],[0.3333333333333333,\"#9c179e\"],[0.4444444444444444,\"#bd3786\"],[0.5555555555555556,\"#d8576b\"],[0.6666666666666666,\"#ed7953\"],[0.7777777777777778,\"#fb9f3a\"],[0.8888888888888888,\"#fdca26\"],[1.0,\"#f0f921\"]],\"type\":\"surface\"}],\"table\":[{\"cells\":{\"fill\":{\"color\":\"#EBF0F8\"},\"line\":{\"color\":\"white\"}},\"header\":{\"fill\":{\"color\":\"#C8D4E3\"},\"line\":{\"color\":\"white\"}},\"type\":\"table\"}]},\"layout\":{\"annotationdefaults\":{\"arrowcolor\":\"#2a3f5f\",\"arrowhead\":0,\"arrowwidth\":1},\"autotypenumbers\":\"strict\",\"coloraxis\":{\"colorbar\":{\"outlinewidth\":0,\"ticks\":\"\"}},\"colorscale\":{\"diverging\":[[0,\"#8e0152\"],[0.1,\"#c51b7d\"],[0.2,\"#de77ae\"],[0.3,\"#f1b6da\"],[0.4,\"#fde0ef\"],[0.5,\"#f7f7f7\"],[0.6,\"#e6f5d0\"],[0.7,\"#b8e186\"],[0.8,\"#7fbc41\"],[0.9,\"#4d9221\"],[1,\"#276419\"]],\"sequential\":[[0.0,\"#0d0887\"],[0.1111111111111111,\"#46039f\"],[0.2222222222222222,\"#7201a8\"],[0.3333333333333333,\"#9c179e\"],[0.4444444444444444,\"#bd3786\"],[0.5555555555555556,\"#d8576b\"],[0.6666666666666666,\"#ed7953\"],[0.7777777777777778,\"#fb9f3a\"],[0.8888888888888888,\"#fdca26\"],[1.0,\"#f0f921\"]],\"sequentialminus\":[[0.0,\"#0d0887\"],[0.1111111111111111,\"#46039f\"],[0.2222222222222222,\"#7201a8\"],[0.3333333333333333,\"#9c179e\"],[0.4444444444444444,\"#bd3786\"],[0.5555555555555556,\"#d8576b\"],[0.6666666666666666,\"#ed7953\"],[0.7777777777777778,\"#fb9f3a\"],[0.8888888888888888,\"#fdca26\"],[1.0,\"#f0f921\"]]},\"colorway\":[\"#636efa\",\"#EF553B\",\"#00cc96\",\"#ab63fa\",\"#FFA15A\",\"#19d3f3\",\"#FF6692\",\"#B6E880\",\"#FF97FF\",\"#FECB52\"],\"font\":{\"color\":\"#2a3f5f\"},\"geo\":{\"bgcolor\":\"white\",\"lakecolor\":\"white\",\"landcolor\":\"white\",\"showlakes\":true,\"showland\":true,\"subunitcolor\":\"#C8D4E3\"},\"hoverlabel\":{\"align\":\"left\"},\"hovermode\":\"closest\",\"mapbox\":{\"style\":\"light\"},\"paper_bgcolor\":\"white\",\"plot_bgcolor\":\"white\",\"polar\":{\"angularaxis\":{\"gridcolor\":\"#EBF0F8\",\"linecolor\":\"#EBF0F8\",\"ticks\":\"\"},\"bgcolor\":\"white\",\"radialaxis\":{\"gridcolor\":\"#EBF0F8\",\"linecolor\":\"#EBF0F8\",\"ticks\":\"\"}},\"scene\":{\"xaxis\":{\"backgroundcolor\":\"white\",\"gridcolor\":\"#DFE8F3\",\"gridwidth\":2,\"linecolor\":\"#EBF0F8\",\"showbackground\":true,\"ticks\":\"\",\"zerolinecolor\":\"#EBF0F8\"},\"yaxis\":{\"backgroundcolor\":\"white\",\"gridcolor\":\"#DFE8F3\",\"gridwidth\":2,\"linecolor\":\"#EBF0F8\",\"showbackground\":true,\"ticks\":\"\",\"zerolinecolor\":\"#EBF0F8\"},\"zaxis\":{\"backgroundcolor\":\"white\",\"gridcolor\":\"#DFE8F3\",\"gridwidth\":2,\"linecolor\":\"#EBF0F8\",\"showbackground\":true,\"ticks\":\"\",\"zerolinecolor\":\"#EBF0F8\"}},\"shapedefaults\":{\"line\":{\"color\":\"#2a3f5f\"}},\"ternary\":{\"aaxis\":{\"gridcolor\":\"#DFE8F3\",\"linecolor\":\"#A2B1C6\",\"ticks\":\"\"},\"baxis\":{\"gridcolor\":\"#DFE8F3\",\"linecolor\":\"#A2B1C6\",\"ticks\":\"\"},\"bgcolor\":\"white\",\"caxis\":{\"gridcolor\":\"#DFE8F3\",\"linecolor\":\"#A2B1C6\",\"ticks\":\"\"}},\"title\":{\"x\":0.05},\"xaxis\":{\"automargin\":true,\"gridcolor\":\"#EBF0F8\",\"linecolor\":\"#EBF0F8\",\"ticks\":\"\",\"title\":{\"standoff\":15},\"zerolinecolor\":\"#EBF0F8\",\"zerolinewidth\":2},\"yaxis\":{\"automargin\":true,\"gridcolor\":\"#EBF0F8\",\"linecolor\":\"#EBF0F8\",\"ticks\":\"\",\"title\":{\"standoff\":15},\"zerolinecolor\":\"#EBF0F8\",\"zerolinewidth\":2}}},\"coloraxis\":{\"colorbar\":{\"title\":{\"text\":\"Avg Validation Accuracy\"}},\"colorscale\":[[0.0,\"#0d0887\"],[0.1111111111111111,\"#46039f\"],[0.2222222222222222,\"#7201a8\"],[0.3333333333333333,\"#9c179e\"],[0.4444444444444444,\"#bd3786\"],[0.5555555555555556,\"#d8576b\"],[0.6666666666666666,\"#ed7953\"],[0.7777777777777778,\"#fb9f3a\"],[0.8888888888888888,\"#fdca26\"],[1.0,\"#f0f921\"]],\"cmid\":0.75},\"legend\":{\"tracegroupgap\":0},\"margin\":{\"t\":60}},                        {\"responsive\": true}                    ).then(function(){\n",
       "                            \n",
       "var gd = document.getElementById('552cf12b-3bd2-474f-aa50-03c295744c0a');\n",
       "var x = new MutationObserver(function (mutations, observer) {{\n",
       "        var display = window.getComputedStyle(gd).display;\n",
       "        if (!display || display === 'none') {{\n",
       "            console.log([gd, 'removed!']);\n",
       "            Plotly.purge(gd);\n",
       "            observer.disconnect();\n",
       "        }}\n",
       "}});\n",
       "\n",
       "// Listen for the removal of the full notebook cells\n",
       "var notebookContainer = gd.closest('#notebook-container');\n",
       "if (notebookContainer) {{\n",
       "    x.observe(notebookContainer, {childList: true});\n",
       "}}\n",
       "\n",
       "// Listen for the clearing of the current output cell\n",
       "var outputEl = gd.closest('.output');\n",
       "if (outputEl) {{\n",
       "    x.observe(outputEl, {childList: true});\n",
       "}}\n",
       "\n",
       "                        })                };                });            </script>        </div>"
      ]
     },
     "metadata": {},
     "output_type": "display_data"
    }
   ],
   "execution_count": 62
  },
  {
   "metadata": {
    "ExecuteTime": {
     "end_time": "2024-05-17T13:44:55.218075Z",
     "start_time": "2024-05-17T13:44:55.202566Z"
    }
   },
   "cell_type": "code",
   "source": [
    "import networkx as nx\n",
    "from matplotlib import pyplot as plt\n",
    "from torch_geometric.utils import to_networkx\n",
    "import glob\n",
    "import importlib\n",
    "import os\n",
    "import time\n",
    "\n",
    "import numpy as np\n",
    "import torch\n",
    "import torch.nn.functional as F\n",
    "from sklearn.model_selection import KFold\n",
    "from torch.utils.data import random_split\n",
    "from torch_geometric.datasets import TUDataset\n",
    "from torch_geometric.loader import DataLoader\n",
    "torch.manual_seed(777)\n",
    "# IMPORT THE MODEL TO BE TRAINED !!!\n",
    "import models.hgp_sl_param.models as models\n",
    "def visualize_graph(data):\n",
    "    # Convert the PyTorch Geometric data object to a NetworkX graph\n",
    "    G = to_networkx(data, to_undirected=True)\n",
    "\n",
    "    # Draw the graph using NetworkX and Matplotlib\n",
    "    plt.figure(figsize=(8, 8))\n",
    "    nx.draw(G, )\n",
    "    plt.show()\n",
    "\n",
    "# Visualize the first graph in the batch\n"
   ],
   "id": "c11b99f42198c0c5",
   "outputs": [],
   "execution_count": 63
  },
  {
   "metadata": {
    "ExecuteTime": {
     "end_time": "2024-05-17T13:44:55.406961Z",
     "start_time": "2024-05-17T13:44:55.223154Z"
    }
   },
   "cell_type": "code",
   "source": [
    "dataset = TUDataset(os.path.join('../../data', \"DD\"), name=\"DD\", use_node_attr=True)\n",
    "\n",
    "num_test = int(len(dataset) * 0.1)\n",
    "num_train = len(dataset) - num_test\n",
    "train_dataset, test_datset = torch.utils.data.random_split(dataset, [num_train, num_test])\n",
    "kfold = KFold(n_splits=5, shuffle=True, random_state=777)"
   ],
   "id": "d4da6efc574069ec",
   "outputs": [],
   "execution_count": 64
  },
  {
   "metadata": {
    "ExecuteTime": {
     "end_time": "2024-05-17T13:44:55.646076Z",
     "start_time": "2024-05-17T13:44:55.409040Z"
    }
   },
   "cell_type": "code",
   "source": [
    "from collections import Counter\n",
    "\n",
    "for fold, (train_idx, val_idx) in enumerate(kfold.split(np.arange(len(train_dataset)))):\n",
    "    if fold>0:break\n",
    "    train_subset = torch.utils.data.Subset(train_dataset, train_idx)\n",
    "    val_subset = torch.utils.data.Subset(train_dataset, val_idx)\n",
    "    train_loader = DataLoader(train_subset, batch_size=64,shuffle=False)\n",
    "    val_loader = DataLoader(val_subset, batch_size=64, shuffle=False)\n",
    "       \n",
    "    batch = next(iter(train_loader))\n",
    "    print(batch[0].edge_index.shape)\n",
    "    print(batch[0].y.shape)\n",
    "    print(batch[0].x.shape)\n",
    "    visualize_graph(batch[0])\n"
   ],
   "id": "cd3749ad911003f3",
   "outputs": [
    {
     "name": "stdout",
     "output_type": "stream",
     "text": [
      "torch.Size([2, 964])\n",
      "torch.Size([1])\n",
      "torch.Size([180, 89])\n"
     ]
    },
    {
     "data": {
      "text/plain": [
       "<Figure size 800x800 with 1 Axes>"
      ],
      "image/png": "[encoded data removed]"
     },
     "metadata": {},
     "output_type": "display_data"
    }
   ],
   "execution_count": 65
  },
  {
   "metadata": {
    "ExecuteTime": {
     "end_time": "2024-05-17T13:44:55.836160Z",
     "start_time": "2024-05-17T13:44:55.647592Z"
    }
   },
   "cell_type": "code",
   "source": [
    "for fold, (train_idx, val_idx) in enumerate(kfold.split(np.arange(len(train_dataset)))):\n",
    "    train_subset = torch.utils.data.Subset(train_dataset, train_idx)\n",
    "    val_subset = torch.utils.data.Subset(train_dataset, val_idx)\n",
    "    # Extract labels for the train and validation subsets\n",
    "    train_labels = [train_dataset[i].y.item() for i in train_idx]  # Assuming the label is the second item returned by indexing\n",
    "    val_labels = [train_dataset[i].y.item() for i in val_idx]\n",
    "    \n",
    "    # Count the occurrences of each label\n",
    "    train_label_distribution = Counter(train_labels)\n",
    "    val_label_distribution = Counter(val_labels)\n",
    "    \n",
    "    # Print the label distributions\n",
    "    print(f'Fold {fold+1}')\n",
    "    print(f'Training label distribution: {train_label_distribution}')\n",
    "    print(f'Validation label distribution: {val_label_distribution}')\n",
    "    \n",
    "\n",
    "train_labels = [train_dataset[i].y.item() for i in range(len(train_dataset))] \n",
    "test_label = [test_datset[i].y.item() for i in range(len(test_datset))]\n",
    "\n",
    "# Count the occurrences of each label\n",
    "train_label_distribution = Counter(train_labels)\n",
    "val_label_distribution = Counter(test_label)\n",
    "\n",
    "# Print the label distributions\n",
    "print(f'Training label distribution: {train_label_distribution}')\n",
    "print(f'Test label distribution: {val_label_distribution}')"
   ],
   "id": "ce3e0783d8607357",
   "outputs": [
    {
     "name": "stdout",
     "output_type": "stream",
     "text": [
      "Fold 1\n",
      "Training label distribution: Counter({0: 499, 1: 349})\n",
      "Validation label distribution: Counter({0: 132, 1: 81})\n",
      "Fold 2\n",
      "Training label distribution: Counter({0: 511, 1: 338})\n",
      "Validation label distribution: Counter({0: 120, 1: 92})\n",
      "Fold 3\n",
      "Training label distribution: Counter({0: 512, 1: 337})\n",
      "Validation label distribution: Counter({0: 119, 1: 93})\n",
      "Fold 4\n",
      "Training label distribution: Counter({0: 501, 1: 348})\n",
      "Validation label distribution: Counter({0: 130, 1: 82})\n",
      "Fold 5\n",
      "Training label distribution: Counter({0: 501, 1: 348})\n",
      "Validation label distribution: Counter({0: 130, 1: 82})\n",
      "Training label distribution: Counter({0: 631, 1: 430})\n",
      "Test label distribution: Counter({0: 60, 1: 57})\n"
     ]
    }
   ],
   "execution_count": 66
  },
  {
   "metadata": {
    "ExecuteTime": {
     "end_time": "2024-05-17T13:44:56.754395Z",
     "start_time": "2024-05-17T13:44:55.837256Z"
    }
   },
   "cell_type": "code",
   "source": [
    "import matplotlib.pyplot as plt\n",
    "\n",
    "# Define the label distributions for each fold\n",
    "fold_numbers = [1, 2, 3, 4, 5]\n",
    "training_label_distributions = [{0: 499, 1: 349}, {0: 511, 1: 338}, {0: 512, 1: 337}, {0: 501, 1: 348}, {0: 501, 1: 348}]\n",
    "validation_label_distributions = [{0: 132, 1: 81}, {0: 120, 1: 92}, {0: 119, 1: 93}, {0: 130, 1: 82}, {0: 130, 1: 82}]\n",
    "\n",
    "# Plot the label distributions\n",
    "fig, axes = plt.subplots(nrows=5, ncols=2, figsize=(10, 15))\n",
    "\n",
    "for i in range(5):\n",
    "    ax1 = axes[i, 0]\n",
    "    ax2 = axes[i, 1]\n",
    "    \n",
    "    training_distribution = training_label_distributions[i]\n",
    "    validation_distribution = validation_label_distributions[i]\n",
    "    \n",
    "    ax1.bar(training_distribution.keys(), training_distribution.values(), color=['blue', 'orange'])\n",
    "    ax1.set_title(f'Fold {fold_numbers[i]} Training Label Distribution')\n",
    "    ax1.set_xticks([0, 1])\n",
    "    ax1.set_xticklabels(['False', 'True'])\n",
    "    ax1.set_ylabel('Count')\n",
    "\n",
    "    ax2.bar(validation_distribution.keys(), validation_distribution.values(), color=['blue', 'orange'])\n",
    "    ax2.set_title(f'Fold {fold_numbers[i]} Validation Label Distribution')\n",
    "    ax2.set_xticks([0, 1])\n",
    "    ax2.set_xticklabels(['False', 'True'])\n",
    "    ax2.set_ylabel('Count')\n",
    "\n",
    "plt.tight_layout()\n",
    "plt.show()\n"
   ],
   "id": "30030e57186f0642",
   "outputs": [
    {
     "data": {
      "text/plain": [
       "<Figure size 1000x1500 with 10 Axes>"
      ],
      "image/png": "[encoded data removed]"
     },
     "metadata": {},
     "output_type": "display_data"
    }
   ],
   "execution_count": 67
  }
 ],
 "metadata": {
  "accelerator": "GPU",
  "colab": {
   "gpuType": "T4",
   "provenance": []
  },
  "kernelspec": {
   "display_name": "Python 3 (ipykernel)",
   "language": "python",
   "name": "python3"
  },
  "language_info": {
   "codemirror_mode": {
    "name": "ipython",
    "version": 2
   },
   "file_extension": ".py",
   "mimetype": "text/x-python",
   "name": "python",
   "nbconvert_exporter": "python",
   "pygments_lexer": "ipython2",
   "version": "2.7.6"
  }
 },
 "nbformat": 4,
 "nbformat_minor": 5
}
